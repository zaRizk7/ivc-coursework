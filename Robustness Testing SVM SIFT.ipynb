{
 "cells": [
  {
   "cell_type": "code",
   "execution_count": 11,
   "id": "25615386",
   "metadata": {},
   "outputs": [],
   "source": [
    "import os\n",
    "import cv2 as cv\n",
    "import argparse\n",
    "from sklearn.svm import LinearSVC\n",
    "from skimage import feature\n",
    "import pandas as pd\n",
    "import os\n",
    "from skimage.transform import resize\n",
    "from skimage.io import imread\n",
    "import numpy as np\n",
    "import matplotlib.pyplot as plt\n",
    "from utils import read_img\n",
    "from sklearn.metrics import f1_score\n",
    "import joblib\n",
    "from scipy.spatial.distance import cdist\n",
    "from sklearn.preprocessing import StandardScaler\n",
    "import helper\n",
    "from sklearn.metrics import f1_score"
   ]
  },
  {
   "cell_type": "code",
   "execution_count": 12,
   "id": "67f2df2f",
   "metadata": {},
   "outputs": [
    {
     "name": "stdout",
     "output_type": "stream",
     "text": [
      "loading... category : black widow\n",
      "loaded category:black widow successfully\n",
      "loading... category : captain america\n",
      "loaded category:captain america successfully\n",
      "loading... category : doctor strange\n",
      "loaded category:doctor strange successfully\n",
      "loading... category : hulk\n",
      "loaded category:hulk successfully\n",
      "loading... category : ironman\n",
      "loaded category:ironman successfully\n",
      "loading... category : loki\n",
      "loaded category:loki successfully\n",
      "loading... category : spider-man\n",
      "loaded category:spider-man successfully\n",
      "loading... category : thanos\n",
      "loaded category:thanos successfully\n"
     ]
    }
   ],
   "source": [
    "train_image_paths = []\n",
    "train_labels = []\n",
    "# get all the image folder paths\n",
    "Categories=['black widow', 'captain america', 'doctor strange', 'hulk', 'ironman', 'loki', 'spider-man', 'thanos']\n",
    "datadir='dataset\\\\train' \n",
    "\n",
    "for i in Categories:\n",
    "    \n",
    "    print(f'loading... category : {i}')\n",
    "    path=os.path.join(datadir,i)\n",
    "    for img in os.listdir(path):\n",
    "        train_image_paths.append(os.path.join(path,img))\n",
    "        train_labels.append(Categories.index(i))\n",
    "    print(f'loaded category:{i} successfully')"
   ]
  },
  {
   "cell_type": "code",
   "execution_count": 13,
   "id": "4211d1ca",
   "metadata": {},
   "outputs": [
    {
     "name": "stdout",
     "output_type": "stream",
     "text": [
      "loading... category : black widow\n",
      "loaded category:black widow successfully\n",
      "loading... category : captain america\n",
      "loaded category:captain america successfully\n",
      "loading... category : doctor strange\n",
      "loaded category:doctor strange successfully\n",
      "loading... category : hulk\n",
      "loaded category:hulk successfully\n",
      "loading... category : ironman\n",
      "loaded category:ironman successfully\n",
      "loading... category : loki\n",
      "loaded category:loki successfully\n",
      "loading... category : spider-man\n",
      "loaded category:spider-man successfully\n",
      "loading... category : thanos\n",
      "loaded category:thanos successfully\n"
     ]
    }
   ],
   "source": [
    "test_image_paths = []\n",
    "test_labels = []\n",
    "# get all the image folder paths\n",
    "Categories=['black widow', 'captain america', 'doctor strange', 'hulk', 'ironman', 'loki', 'spider-man', 'thanos']\n",
    "datadir='dataset\\\\test' \n",
    "\n",
    "for i in Categories:\n",
    "    \n",
    "    print(f'loading... category : {i}')\n",
    "    path=os.path.join(datadir,i)\n",
    "    for img in os.listdir(path):\n",
    "        test_image_paths.append(os.path.join(path,img))\n",
    "        test_labels.append(Categories.index(i))\n",
    "    print(f'loaded category:{i} successfully')"
   ]
  },
  {
   "cell_type": "code",
   "execution_count": 14,
   "id": "d10e9d2b",
   "metadata": {},
   "outputs": [],
   "source": [
    "scaler = StandardScaler()\n",
    "def bag_of_words_SIFT(image_paths, codebook):\n",
    "    orb = cv.SIFT_create(nfeatures=300)\n",
    "    codebook_size = codebook.shape[0]\n",
    "    image_features = []\n",
    "    for image_path in image_paths:\n",
    "        img = read_img(image_path, mono=True)\n",
    "        keypoints, descriptors = orb.detectAndCompute(img, None)\n",
    "        bow = np.zeros(codebook_size)\n",
    "        if descriptors is not None:\n",
    "            distances = cdist(descriptors, codebook)\n",
    "            for d in distances:\n",
    "                bow[np.argmin(d)] += 1\n",
    "        image_features.append(bow.reshape(1, codebook_size))\n",
    "    image_features = np.concatenate(image_features)\n",
    "    return image_features"
   ]
  },
  {
   "cell_type": "code",
   "execution_count": 15,
   "id": "f30346b1",
   "metadata": {},
   "outputs": [
    {
     "name": "stderr",
     "output_type": "stream",
     "text": [
      "C:\\Users\\lukas\\anaconda3\\envs\\py10\\lib\\site-packages\\sklearn\\base.py:329: UserWarning: Trying to unpickle estimator SVC from version 1.0.2 when using version 1.1.3. This might lead to breaking code or invalid results. Use at your own risk. For more info please refer to:\n",
      "https://scikit-learn.org/stable/model_persistence.html#security-maintainability-limitations\n",
      "  warnings.warn(\n"
     ]
    }
   ],
   "source": [
    "codebook_SIFT = joblib.load('Saved_Models_SVM/codebook_SIFT.joblib')\n",
    "svm_SIFT = joblib.load('Saved_Models_SVM/svm_bow_SIFT.joblib')"
   ]
  },
  {
   "cell_type": "code",
   "execution_count": 16,
   "id": "384eab2d",
   "metadata": {},
   "outputs": [
    {
     "name": "stdout",
     "output_type": "stream",
     "text": [
      "Generating BOW features for training set...\n",
      "Train images: (2325, 150)\n"
     ]
    }
   ],
   "source": [
    "print('Generating BOW features for training set...')\n",
    "train_images_SIFT = bag_of_words_SIFT(train_image_paths, codebook_SIFT)\n",
    "train_images_scaled_SIFT = scaler.fit_transform(train_images_SIFT)\n",
    "print('Train images:', train_images_SIFT.shape)"
   ]
  },
  {
   "cell_type": "markdown",
   "id": "0477477b",
   "metadata": {},
   "source": [
    "# Gaussian pixel noise"
   ]
  },
  {
   "cell_type": "code",
   "execution_count": 17,
   "id": "20c20dd9",
   "metadata": {},
   "outputs": [],
   "source": [
    "def bag_of_words_SIFT_GPN(image_paths, codebook, i):\n",
    "    sift = cv.SIFT_create(nfeatures=300)\n",
    "    codebook_size = codebook.shape[0]\n",
    "    image_features = []\n",
    "    for image_path in image_paths:\n",
    "        img = read_img(image_path, mono=True)\n",
    "        img = helper.gaussian_pixel_noise(img, i)\n",
    "        img = cv.normalize(img, None, 0, 255, cv.NORM_MINMAX).astype('uint8')\n",
    "        keypoints, descriptors = sift.detectAndCompute(img, None)\n",
    "        bow = np.zeros(codebook_size)\n",
    "        if descriptors is not None:\n",
    "            distances = cdist(descriptors, codebook)\n",
    "            for d in distances:\n",
    "                bow[np.argmin(d)] += 1\n",
    "        image_features.append(bow.reshape(1, codebook_size))\n",
    "    image_features = np.concatenate(image_features)\n",
    "    return image_features"
   ]
  },
  {
   "cell_type": "code",
   "execution_count": 18,
   "id": "4891774f",
   "metadata": {},
   "outputs": [],
   "source": [
    "l = [0, 2, 4, 6, 8, 10, 12, 14, 16, 18]"
   ]
  },
  {
   "cell_type": "code",
   "execution_count": 19,
   "id": "1196ae9e",
   "metadata": {},
   "outputs": [
    {
     "name": "stdout",
     "output_type": "stream",
     "text": [
      "0\n",
      "2\n",
      "4\n",
      "6\n",
      "8\n",
      "10\n",
      "12\n",
      "14\n",
      "16\n",
      "18\n"
     ]
    }
   ],
   "source": [
    "res = []\n",
    "for i in range(len(l)):\n",
    "    print(l[i])\n",
    "    test_images = bag_of_words_SIFT_GPN(test_image_paths, codebook_SIFT, l[i])\n",
    "    test_images_scaled = scaler.transform(test_images)\n",
    "    test_predictions = svm_SIFT.predict(test_images_scaled)\n",
    "    res.append(f1_score(test_labels, test_predictions, average='macro'))"
   ]
  },
  {
   "cell_type": "code",
   "execution_count": 20,
   "id": "3c268104",
   "metadata": {},
   "outputs": [
    {
     "data": {
      "text/plain": [
       "[0.27820592360365454,\n",
       " 0.2291332211371926,\n",
       " 0.2593962479506895,\n",
       " 0.24300920009790547,\n",
       " 0.2294307582301845,\n",
       " 0.25059529039786743,\n",
       " 0.2466749748624241,\n",
       " 0.24261286242003285,\n",
       " 0.24777720095098915,\n",
       " 0.24976133488638919]"
      ]
     },
     "execution_count": 20,
     "metadata": {},
     "output_type": "execute_result"
    }
   ],
   "source": [
    "res"
   ]
  },
  {
   "cell_type": "code",
   "execution_count": 21,
   "id": "a0ee0bb9",
   "metadata": {},
   "outputs": [
    {
     "data": {
      "text/html": [
       "<div>\n",
       "<style scoped>\n",
       "    .dataframe tbody tr th:only-of-type {\n",
       "        vertical-align: middle;\n",
       "    }\n",
       "\n",
       "    .dataframe tbody tr th {\n",
       "        vertical-align: top;\n",
       "    }\n",
       "\n",
       "    .dataframe thead th {\n",
       "        text-align: right;\n",
       "    }\n",
       "</style>\n",
       "<table border=\"1\" class=\"dataframe\">\n",
       "  <thead>\n",
       "    <tr style=\"text-align: right;\">\n",
       "      <th></th>\n",
       "      <th>f-1</th>\n",
       "    </tr>\n",
       "  </thead>\n",
       "  <tbody>\n",
       "    <tr>\n",
       "      <th>0</th>\n",
       "      <td>0.278206</td>\n",
       "    </tr>\n",
       "    <tr>\n",
       "      <th>2</th>\n",
       "      <td>0.229133</td>\n",
       "    </tr>\n",
       "    <tr>\n",
       "      <th>4</th>\n",
       "      <td>0.259396</td>\n",
       "    </tr>\n",
       "    <tr>\n",
       "      <th>6</th>\n",
       "      <td>0.243009</td>\n",
       "    </tr>\n",
       "    <tr>\n",
       "      <th>8</th>\n",
       "      <td>0.229431</td>\n",
       "    </tr>\n",
       "    <tr>\n",
       "      <th>10</th>\n",
       "      <td>0.250595</td>\n",
       "    </tr>\n",
       "    <tr>\n",
       "      <th>12</th>\n",
       "      <td>0.246675</td>\n",
       "    </tr>\n",
       "    <tr>\n",
       "      <th>14</th>\n",
       "      <td>0.242613</td>\n",
       "    </tr>\n",
       "    <tr>\n",
       "      <th>16</th>\n",
       "      <td>0.247777</td>\n",
       "    </tr>\n",
       "    <tr>\n",
       "      <th>18</th>\n",
       "      <td>0.249761</td>\n",
       "    </tr>\n",
       "  </tbody>\n",
       "</table>\n",
       "</div>"
      ],
      "text/plain": [
       "         f-1\n",
       "0   0.278206\n",
       "2   0.229133\n",
       "4   0.259396\n",
       "6   0.243009\n",
       "8   0.229431\n",
       "10  0.250595\n",
       "12  0.246675\n",
       "14  0.242613\n",
       "16  0.247777\n",
       "18  0.249761"
      ]
     },
     "execution_count": 21,
     "metadata": {},
     "output_type": "execute_result"
    }
   ],
   "source": [
    "d = {'f-1': res}\n",
    "df = pd.DataFrame(data=d, index = l)\n",
    "df"
   ]
  },
  {
   "cell_type": "code",
   "execution_count": 22,
   "id": "cc7a8b73",
   "metadata": {},
   "outputs": [],
   "source": [
    "df.to_csv(\"Robustness_Testing_Results_SVM/Gaussian pixel noise.csv\")"
   ]
  },
  {
   "cell_type": "markdown",
   "id": "504ea1ed",
   "metadata": {},
   "source": [
    "# Gaussian blurring"
   ]
  },
  {
   "cell_type": "code",
   "execution_count": 23,
   "id": "21db4601",
   "metadata": {},
   "outputs": [],
   "source": [
    "def bag_of_words_SIFT_GB(image_paths, codebook, i):\n",
    "    sift = cv.SIFT_create(nfeatures=300)\n",
    "    codebook_size = codebook.shape[0]\n",
    "    image_features = []\n",
    "    for image_path in image_paths:\n",
    "        img = read_img(image_path, mono=True)\n",
    "        img = helper.gaussian_blur(img, i)\n",
    "        img = cv.normalize(img, None, 0, 255, cv.NORM_MINMAX).astype('uint8')\n",
    "        keypoints, descriptors = sift.detectAndCompute(img, None)\n",
    "        bow = np.zeros(codebook_size)\n",
    "        if descriptors is not None:\n",
    "            distances = cdist(descriptors, codebook)\n",
    "            for d in distances:\n",
    "                bow[np.argmin(d)] += 1\n",
    "        image_features.append(bow.reshape(1, codebook_size))\n",
    "    image_features = np.concatenate(image_features)\n",
    "    return image_features"
   ]
  },
  {
   "cell_type": "code",
   "execution_count": 24,
   "id": "014d0c50",
   "metadata": {},
   "outputs": [
    {
     "name": "stdout",
     "output_type": "stream",
     "text": [
      "0\n",
      "1\n",
      "2\n",
      "3\n",
      "4\n",
      "5\n",
      "6\n",
      "7\n",
      "8\n",
      "9\n"
     ]
    }
   ],
   "source": [
    "res = []\n",
    "for i in range(10):\n",
    "    print(i)\n",
    "    test_images = bag_of_words_SIFT_GB(test_image_paths, codebook_SIFT, i)\n",
    "    test_images_scaled = scaler.transform(test_images)\n",
    "    test_predictions = svm_SIFT.predict(test_images_scaled)\n",
    "    res.append(f1_score(test_labels, test_predictions, average='macro'))"
   ]
  },
  {
   "cell_type": "code",
   "execution_count": 25,
   "id": "7e9e760f",
   "metadata": {},
   "outputs": [
    {
     "data": {
      "text/html": [
       "<div>\n",
       "<style scoped>\n",
       "    .dataframe tbody tr th:only-of-type {\n",
       "        vertical-align: middle;\n",
       "    }\n",
       "\n",
       "    .dataframe tbody tr th {\n",
       "        vertical-align: top;\n",
       "    }\n",
       "\n",
       "    .dataframe thead th {\n",
       "        text-align: right;\n",
       "    }\n",
       "</style>\n",
       "<table border=\"1\" class=\"dataframe\">\n",
       "  <thead>\n",
       "    <tr style=\"text-align: right;\">\n",
       "      <th></th>\n",
       "      <th>f-1</th>\n",
       "    </tr>\n",
       "  </thead>\n",
       "  <tbody>\n",
       "    <tr>\n",
       "      <th>0</th>\n",
       "      <td>0.278206</td>\n",
       "    </tr>\n",
       "    <tr>\n",
       "      <th>1</th>\n",
       "      <td>0.256647</td>\n",
       "    </tr>\n",
       "    <tr>\n",
       "      <th>2</th>\n",
       "      <td>0.236458</td>\n",
       "    </tr>\n",
       "    <tr>\n",
       "      <th>3</th>\n",
       "      <td>0.221048</td>\n",
       "    </tr>\n",
       "    <tr>\n",
       "      <th>4</th>\n",
       "      <td>0.205456</td>\n",
       "    </tr>\n",
       "    <tr>\n",
       "      <th>5</th>\n",
       "      <td>0.222273</td>\n",
       "    </tr>\n",
       "    <tr>\n",
       "      <th>6</th>\n",
       "      <td>0.190207</td>\n",
       "    </tr>\n",
       "    <tr>\n",
       "      <th>7</th>\n",
       "      <td>0.177914</td>\n",
       "    </tr>\n",
       "    <tr>\n",
       "      <th>8</th>\n",
       "      <td>0.181289</td>\n",
       "    </tr>\n",
       "    <tr>\n",
       "      <th>9</th>\n",
       "      <td>0.153725</td>\n",
       "    </tr>\n",
       "  </tbody>\n",
       "</table>\n",
       "</div>"
      ],
      "text/plain": [
       "        f-1\n",
       "0  0.278206\n",
       "1  0.256647\n",
       "2  0.236458\n",
       "3  0.221048\n",
       "4  0.205456\n",
       "5  0.222273\n",
       "6  0.190207\n",
       "7  0.177914\n",
       "8  0.181289\n",
       "9  0.153725"
      ]
     },
     "execution_count": 25,
     "metadata": {},
     "output_type": "execute_result"
    }
   ],
   "source": [
    "d = {'f-1': res}\n",
    "df = pd.DataFrame(data=d)\n",
    "df"
   ]
  },
  {
   "cell_type": "code",
   "execution_count": 26,
   "id": "9a8dceb1",
   "metadata": {},
   "outputs": [],
   "source": [
    "df.to_csv(\"Robustness_Testing_Results_SVM/Gaussian blurring.csv\")"
   ]
  },
  {
   "cell_type": "markdown",
   "id": "5f6480b6",
   "metadata": {},
   "source": [
    "# Image Contrast Increase "
   ]
  },
  {
   "cell_type": "code",
   "execution_count": 27,
   "id": "d5c22fcd",
   "metadata": {},
   "outputs": [],
   "source": [
    "def bag_of_words_SIFT_ICI(image_paths, codebook, i):\n",
    "    sift = cv.SIFT_create(nfeatures=300)\n",
    "    codebook_size = codebook.shape[0]\n",
    "    image_features = []\n",
    "    for image_path in image_paths:\n",
    "        img = read_img(image_path, mono=True)\n",
    "        img = helper.scale_contrast(img, i)\n",
    "        img = cv.normalize(img, None, 0, 255, cv.NORM_MINMAX).astype('uint8')\n",
    "        keypoints, descriptors = sift.detectAndCompute(img, None)\n",
    "        bow = np.zeros(codebook_size)\n",
    "        if descriptors is not None:\n",
    "            distances = cdist(descriptors, codebook)\n",
    "            for d in distances:\n",
    "                bow[np.argmin(d)] += 1\n",
    "        image_features.append(bow.reshape(1, codebook_size))\n",
    "    image_features = np.concatenate(image_features)\n",
    "    return image_features"
   ]
  },
  {
   "cell_type": "code",
   "execution_count": 28,
   "id": "26787162",
   "metadata": {},
   "outputs": [],
   "source": [
    "l = [1.0, 1.01, 1.02, 1.03, 1.04, 1.05, 1.1, 1.15, 1.20, 1.25]"
   ]
  },
  {
   "cell_type": "code",
   "execution_count": 29,
   "id": "3c016e46",
   "metadata": {},
   "outputs": [
    {
     "name": "stdout",
     "output_type": "stream",
     "text": [
      "1.0\n",
      "1.01\n",
      "1.02\n",
      "1.03\n",
      "1.04\n",
      "1.05\n",
      "1.1\n",
      "1.15\n",
      "1.2\n",
      "1.25\n"
     ]
    }
   ],
   "source": [
    "res = []\n",
    "for i in range(len(l)):\n",
    "    print(l[i])\n",
    "    test_images = bag_of_words_SIFT_ICI(test_image_paths, codebook_SIFT, l[i])\n",
    "    test_images_scaled = scaler.transform(test_images)\n",
    "    test_predictions = svm_SIFT.predict(test_images_scaled)\n",
    "    res.append(f1_score(test_labels, test_predictions, average='macro'))"
   ]
  },
  {
   "cell_type": "code",
   "execution_count": 30,
   "id": "39e0f688",
   "metadata": {},
   "outputs": [
    {
     "data": {
      "text/html": [
       "<div>\n",
       "<style scoped>\n",
       "    .dataframe tbody tr th:only-of-type {\n",
       "        vertical-align: middle;\n",
       "    }\n",
       "\n",
       "    .dataframe tbody tr th {\n",
       "        vertical-align: top;\n",
       "    }\n",
       "\n",
       "    .dataframe thead th {\n",
       "        text-align: right;\n",
       "    }\n",
       "</style>\n",
       "<table border=\"1\" class=\"dataframe\">\n",
       "  <thead>\n",
       "    <tr style=\"text-align: right;\">\n",
       "      <th></th>\n",
       "      <th>f-1</th>\n",
       "    </tr>\n",
       "  </thead>\n",
       "  <tbody>\n",
       "    <tr>\n",
       "      <th>1.00</th>\n",
       "      <td>0.278206</td>\n",
       "    </tr>\n",
       "    <tr>\n",
       "      <th>1.01</th>\n",
       "      <td>0.271130</td>\n",
       "    </tr>\n",
       "    <tr>\n",
       "      <th>1.02</th>\n",
       "      <td>0.274672</td>\n",
       "    </tr>\n",
       "    <tr>\n",
       "      <th>1.03</th>\n",
       "      <td>0.265610</td>\n",
       "    </tr>\n",
       "    <tr>\n",
       "      <th>1.04</th>\n",
       "      <td>0.281646</td>\n",
       "    </tr>\n",
       "    <tr>\n",
       "      <th>1.05</th>\n",
       "      <td>0.252820</td>\n",
       "    </tr>\n",
       "    <tr>\n",
       "      <th>1.10</th>\n",
       "      <td>0.255731</td>\n",
       "    </tr>\n",
       "    <tr>\n",
       "      <th>1.15</th>\n",
       "      <td>0.269882</td>\n",
       "    </tr>\n",
       "    <tr>\n",
       "      <th>1.20</th>\n",
       "      <td>0.267684</td>\n",
       "    </tr>\n",
       "    <tr>\n",
       "      <th>1.25</th>\n",
       "      <td>0.260673</td>\n",
       "    </tr>\n",
       "  </tbody>\n",
       "</table>\n",
       "</div>"
      ],
      "text/plain": [
       "           f-1\n",
       "1.00  0.278206\n",
       "1.01  0.271130\n",
       "1.02  0.274672\n",
       "1.03  0.265610\n",
       "1.04  0.281646\n",
       "1.05  0.252820\n",
       "1.10  0.255731\n",
       "1.15  0.269882\n",
       "1.20  0.267684\n",
       "1.25  0.260673"
      ]
     },
     "execution_count": 30,
     "metadata": {},
     "output_type": "execute_result"
    }
   ],
   "source": [
    "d = {'f-1': res}\n",
    "df = pd.DataFrame(data=d, index = l)\n",
    "df"
   ]
  },
  {
   "cell_type": "code",
   "execution_count": 31,
   "id": "14139d66",
   "metadata": {},
   "outputs": [],
   "source": [
    "df.to_csv(\"Robustness_Testing_Results_SVM/Image Contrast Increase.csv\")"
   ]
  },
  {
   "cell_type": "markdown",
   "id": "13572dc0",
   "metadata": {},
   "source": [
    "# Image Contrast Decrease"
   ]
  },
  {
   "cell_type": "code",
   "execution_count": 32,
   "id": "c22e3ba3",
   "metadata": {},
   "outputs": [],
   "source": [
    "l = [ 1.0, 0.95, 0.90, 0.85, 0.80, 0.60, 0.40, 0.30, 0.20, 0.10]"
   ]
  },
  {
   "cell_type": "code",
   "execution_count": 33,
   "id": "e8418e12",
   "metadata": {},
   "outputs": [
    {
     "name": "stdout",
     "output_type": "stream",
     "text": [
      "1.0\n",
      "0.95\n",
      "0.9\n",
      "0.85\n",
      "0.8\n",
      "0.6\n",
      "0.4\n",
      "0.3\n",
      "0.2\n",
      "0.1\n"
     ]
    }
   ],
   "source": [
    "res = []\n",
    "for i in range(len(l)):\n",
    "    print(l[i])\n",
    "    test_images = bag_of_words_SIFT_ICI(test_image_paths, codebook_SIFT, l[i])\n",
    "    test_images_scaled = scaler.transform(test_images)\n",
    "    test_predictions = svm_SIFT.predict(test_images_scaled)\n",
    "    res.append(f1_score(test_labels, test_predictions, average='macro'))"
   ]
  },
  {
   "cell_type": "code",
   "execution_count": 34,
   "id": "f398ac69",
   "metadata": {},
   "outputs": [
    {
     "data": {
      "text/html": [
       "<div>\n",
       "<style scoped>\n",
       "    .dataframe tbody tr th:only-of-type {\n",
       "        vertical-align: middle;\n",
       "    }\n",
       "\n",
       "    .dataframe tbody tr th {\n",
       "        vertical-align: top;\n",
       "    }\n",
       "\n",
       "    .dataframe thead th {\n",
       "        text-align: right;\n",
       "    }\n",
       "</style>\n",
       "<table border=\"1\" class=\"dataframe\">\n",
       "  <thead>\n",
       "    <tr style=\"text-align: right;\">\n",
       "      <th></th>\n",
       "      <th>f-1</th>\n",
       "    </tr>\n",
       "  </thead>\n",
       "  <tbody>\n",
       "    <tr>\n",
       "      <th>1.00</th>\n",
       "      <td>0.278206</td>\n",
       "    </tr>\n",
       "    <tr>\n",
       "      <th>0.95</th>\n",
       "      <td>0.271954</td>\n",
       "    </tr>\n",
       "    <tr>\n",
       "      <th>0.90</th>\n",
       "      <td>0.263375</td>\n",
       "    </tr>\n",
       "    <tr>\n",
       "      <th>0.85</th>\n",
       "      <td>0.266366</td>\n",
       "    </tr>\n",
       "    <tr>\n",
       "      <th>0.80</th>\n",
       "      <td>0.263801</td>\n",
       "    </tr>\n",
       "    <tr>\n",
       "      <th>0.60</th>\n",
       "      <td>0.272300</td>\n",
       "    </tr>\n",
       "    <tr>\n",
       "      <th>0.40</th>\n",
       "      <td>0.250884</td>\n",
       "    </tr>\n",
       "    <tr>\n",
       "      <th>0.30</th>\n",
       "      <td>0.257211</td>\n",
       "    </tr>\n",
       "    <tr>\n",
       "      <th>0.20</th>\n",
       "      <td>0.245193</td>\n",
       "    </tr>\n",
       "    <tr>\n",
       "      <th>0.10</th>\n",
       "      <td>0.268139</td>\n",
       "    </tr>\n",
       "  </tbody>\n",
       "</table>\n",
       "</div>"
      ],
      "text/plain": [
       "           f-1\n",
       "1.00  0.278206\n",
       "0.95  0.271954\n",
       "0.90  0.263375\n",
       "0.85  0.266366\n",
       "0.80  0.263801\n",
       "0.60  0.272300\n",
       "0.40  0.250884\n",
       "0.30  0.257211\n",
       "0.20  0.245193\n",
       "0.10  0.268139"
      ]
     },
     "execution_count": 34,
     "metadata": {},
     "output_type": "execute_result"
    }
   ],
   "source": [
    "d = {'f-1': res}\n",
    "df = pd.DataFrame(data=d, index = l)\n",
    "df"
   ]
  },
  {
   "cell_type": "code",
   "execution_count": 35,
   "id": "862c1a48",
   "metadata": {},
   "outputs": [],
   "source": [
    "df.to_csv(\"Robustness_Testing_Results_SVM/Image Contrast Decrease.csv\")"
   ]
  },
  {
   "cell_type": "markdown",
   "id": "e9febeaf",
   "metadata": {},
   "source": [
    "# Image Brightness Increase"
   ]
  },
  {
   "cell_type": "code",
   "execution_count": 36,
   "id": "c41807e2",
   "metadata": {},
   "outputs": [],
   "source": [
    "def bag_of_words_SIFT_IB(image_paths, codebook, i):\n",
    "    sift = cv.SIFT_create(nfeatures=300)\n",
    "    codebook_size = codebook.shape[0]\n",
    "    image_features = []\n",
    "    for image_path in image_paths:\n",
    "        img = read_img(image_path, mono=True)\n",
    "        img = helper.change_brightness(img, i)\n",
    "        img = cv.normalize(img, None, 0, 255, cv.NORM_MINMAX).astype('uint8')\n",
    "        keypoints, descriptors = sift.detectAndCompute(img, None)\n",
    "        bow = np.zeros(codebook_size)\n",
    "        if descriptors is not None:\n",
    "            distances = cdist(descriptors, codebook)\n",
    "            for d in distances:\n",
    "                bow[np.argmin(d)] += 1\n",
    "        image_features.append(bow.reshape(1, codebook_size))\n",
    "    image_features = np.concatenate(image_features)\n",
    "    return image_features"
   ]
  },
  {
   "cell_type": "code",
   "execution_count": 37,
   "id": "630a3641",
   "metadata": {},
   "outputs": [],
   "source": [
    "l = [0, 5, 10, 15, 20, 25, 30, 35, 40, 45]"
   ]
  },
  {
   "cell_type": "code",
   "execution_count": 38,
   "id": "d932e545",
   "metadata": {},
   "outputs": [
    {
     "name": "stdout",
     "output_type": "stream",
     "text": [
      "0\n",
      "5\n",
      "10\n",
      "15\n",
      "20\n",
      "25\n",
      "30\n",
      "35\n",
      "40\n",
      "45\n"
     ]
    }
   ],
   "source": [
    "res = []\n",
    "for i in range(len(l)):\n",
    "    print(l[i])\n",
    "    test_images = bag_of_words_SIFT_IB(test_image_paths, codebook_SIFT, l[i])\n",
    "    test_images_scaled = scaler.transform(test_images)\n",
    "    test_predictions = svm_SIFT.predict(test_images_scaled)\n",
    "    res.append(f1_score(test_labels, test_predictions, average='macro'))"
   ]
  },
  {
   "cell_type": "code",
   "execution_count": 39,
   "id": "f406a762",
   "metadata": {},
   "outputs": [
    {
     "data": {
      "text/html": [
       "<div>\n",
       "<style scoped>\n",
       "    .dataframe tbody tr th:only-of-type {\n",
       "        vertical-align: middle;\n",
       "    }\n",
       "\n",
       "    .dataframe tbody tr th {\n",
       "        vertical-align: top;\n",
       "    }\n",
       "\n",
       "    .dataframe thead th {\n",
       "        text-align: right;\n",
       "    }\n",
       "</style>\n",
       "<table border=\"1\" class=\"dataframe\">\n",
       "  <thead>\n",
       "    <tr style=\"text-align: right;\">\n",
       "      <th></th>\n",
       "      <th>f-1</th>\n",
       "    </tr>\n",
       "  </thead>\n",
       "  <tbody>\n",
       "    <tr>\n",
       "      <th>0</th>\n",
       "      <td>0.278206</td>\n",
       "    </tr>\n",
       "    <tr>\n",
       "      <th>5</th>\n",
       "      <td>0.255938</td>\n",
       "    </tr>\n",
       "    <tr>\n",
       "      <th>10</th>\n",
       "      <td>0.262173</td>\n",
       "    </tr>\n",
       "    <tr>\n",
       "      <th>15</th>\n",
       "      <td>0.260312</td>\n",
       "    </tr>\n",
       "    <tr>\n",
       "      <th>20</th>\n",
       "      <td>0.232420</td>\n",
       "    </tr>\n",
       "    <tr>\n",
       "      <th>25</th>\n",
       "      <td>0.220818</td>\n",
       "    </tr>\n",
       "    <tr>\n",
       "      <th>30</th>\n",
       "      <td>0.219503</td>\n",
       "    </tr>\n",
       "    <tr>\n",
       "      <th>35</th>\n",
       "      <td>0.222061</td>\n",
       "    </tr>\n",
       "    <tr>\n",
       "      <th>40</th>\n",
       "      <td>0.213327</td>\n",
       "    </tr>\n",
       "    <tr>\n",
       "      <th>45</th>\n",
       "      <td>0.191334</td>\n",
       "    </tr>\n",
       "  </tbody>\n",
       "</table>\n",
       "</div>"
      ],
      "text/plain": [
       "         f-1\n",
       "0   0.278206\n",
       "5   0.255938\n",
       "10  0.262173\n",
       "15  0.260312\n",
       "20  0.232420\n",
       "25  0.220818\n",
       "30  0.219503\n",
       "35  0.222061\n",
       "40  0.213327\n",
       "45  0.191334"
      ]
     },
     "execution_count": 39,
     "metadata": {},
     "output_type": "execute_result"
    }
   ],
   "source": [
    "d = {'f-1': res}\n",
    "df = pd.DataFrame(data=d, index = l)\n",
    "df"
   ]
  },
  {
   "cell_type": "code",
   "execution_count": 40,
   "id": "c07c5e57",
   "metadata": {},
   "outputs": [],
   "source": [
    "df.to_csv(\"Robustness_Testing_Results_SVM/Image Brightness Increase.csv\")"
   ]
  },
  {
   "cell_type": "markdown",
   "id": "c4fcadd7",
   "metadata": {},
   "source": [
    "# Image Brightness Decrease"
   ]
  },
  {
   "cell_type": "code",
   "execution_count": 41,
   "id": "484c5f24",
   "metadata": {},
   "outputs": [],
   "source": [
    "l = [0, -5, -10, -15, -20, -25, -30, -35, -40, -45]"
   ]
  },
  {
   "cell_type": "code",
   "execution_count": 42,
   "id": "4fa2ae7f",
   "metadata": {},
   "outputs": [
    {
     "name": "stdout",
     "output_type": "stream",
     "text": [
      "0\n",
      "-5\n",
      "-10\n",
      "-15\n",
      "-20\n",
      "-25\n",
      "-30\n",
      "-35\n",
      "-40\n",
      "-45\n"
     ]
    }
   ],
   "source": [
    "res = []\n",
    "for i in range(len(l)):\n",
    "    print(l[i])\n",
    "    test_images = bag_of_words_SIFT_IB(test_image_paths, codebook_SIFT, l[i])\n",
    "    test_images_scaled = scaler.transform(test_images)\n",
    "    test_predictions = svm_SIFT.predict(test_images_scaled)\n",
    "    res.append(f1_score(test_labels, test_predictions, average='macro'))"
   ]
  },
  {
   "cell_type": "code",
   "execution_count": 43,
   "id": "d3c1d006",
   "metadata": {},
   "outputs": [
    {
     "data": {
      "text/html": [
       "<div>\n",
       "<style scoped>\n",
       "    .dataframe tbody tr th:only-of-type {\n",
       "        vertical-align: middle;\n",
       "    }\n",
       "\n",
       "    .dataframe tbody tr th {\n",
       "        vertical-align: top;\n",
       "    }\n",
       "\n",
       "    .dataframe thead th {\n",
       "        text-align: right;\n",
       "    }\n",
       "</style>\n",
       "<table border=\"1\" class=\"dataframe\">\n",
       "  <thead>\n",
       "    <tr style=\"text-align: right;\">\n",
       "      <th></th>\n",
       "      <th>f-1</th>\n",
       "    </tr>\n",
       "  </thead>\n",
       "  <tbody>\n",
       "    <tr>\n",
       "      <th>0</th>\n",
       "      <td>0.278206</td>\n",
       "    </tr>\n",
       "    <tr>\n",
       "      <th>-5</th>\n",
       "      <td>0.266581</td>\n",
       "    </tr>\n",
       "    <tr>\n",
       "      <th>-10</th>\n",
       "      <td>0.267993</td>\n",
       "    </tr>\n",
       "    <tr>\n",
       "      <th>-15</th>\n",
       "      <td>0.278687</td>\n",
       "    </tr>\n",
       "    <tr>\n",
       "      <th>-20</th>\n",
       "      <td>0.264330</td>\n",
       "    </tr>\n",
       "    <tr>\n",
       "      <th>-25</th>\n",
       "      <td>0.267444</td>\n",
       "    </tr>\n",
       "    <tr>\n",
       "      <th>-30</th>\n",
       "      <td>0.265710</td>\n",
       "    </tr>\n",
       "    <tr>\n",
       "      <th>-35</th>\n",
       "      <td>0.267769</td>\n",
       "    </tr>\n",
       "    <tr>\n",
       "      <th>-40</th>\n",
       "      <td>0.244018</td>\n",
       "    </tr>\n",
       "    <tr>\n",
       "      <th>-45</th>\n",
       "      <td>0.243000</td>\n",
       "    </tr>\n",
       "  </tbody>\n",
       "</table>\n",
       "</div>"
      ],
      "text/plain": [
       "          f-1\n",
       " 0   0.278206\n",
       "-5   0.266581\n",
       "-10  0.267993\n",
       "-15  0.278687\n",
       "-20  0.264330\n",
       "-25  0.267444\n",
       "-30  0.265710\n",
       "-35  0.267769\n",
       "-40  0.244018\n",
       "-45  0.243000"
      ]
     },
     "execution_count": 43,
     "metadata": {},
     "output_type": "execute_result"
    }
   ],
   "source": [
    "d = {'f-1': res}\n",
    "df = pd.DataFrame(data=d, index = l)\n",
    "df"
   ]
  },
  {
   "cell_type": "code",
   "execution_count": 44,
   "id": "3395c606",
   "metadata": {},
   "outputs": [],
   "source": [
    "df.to_csv(\"Robustness_Testing_Results_SVM/Image Brightness Decrease.csv\")"
   ]
  },
  {
   "cell_type": "markdown",
   "id": "c942667e",
   "metadata": {},
   "source": [
    "# Occlusion of the Image Increase"
   ]
  },
  {
   "cell_type": "code",
   "execution_count": 45,
   "id": "5e72e786",
   "metadata": {},
   "outputs": [],
   "source": [
    "def bag_of_words_SIFT_OII(image_paths, codebook, i):\n",
    "    sift = cv.SIFT_create(nfeatures=300)\n",
    "    codebook_size = codebook.shape[0]\n",
    "    image_features = []\n",
    "    for image_path in image_paths:\n",
    "        img = read_img(image_path, mono=True)\n",
    "        img = helper.occlusion(img, i)\n",
    "        img = cv.normalize(img, None, 0, 255, cv.NORM_MINMAX).astype('uint8')\n",
    "        keypoints, descriptors = sift.detectAndCompute(img, None)\n",
    "        bow = np.zeros(codebook_size)\n",
    "        if descriptors is not None:\n",
    "            distances = cdist(descriptors, codebook)\n",
    "            for d in distances:\n",
    "                bow[np.argmin(d)] += 1\n",
    "        image_features.append(bow.reshape(1, codebook_size))\n",
    "    image_features = np.concatenate(image_features)\n",
    "    return image_features"
   ]
  },
  {
   "cell_type": "code",
   "execution_count": 46,
   "id": "178ef490",
   "metadata": {},
   "outputs": [],
   "source": [
    "l = [0, 5, 10, 15, 20, 25, 30, 35, 40, 45]"
   ]
  },
  {
   "cell_type": "code",
   "execution_count": 47,
   "id": "64ff1969",
   "metadata": {},
   "outputs": [
    {
     "name": "stdout",
     "output_type": "stream",
     "text": [
      "0\n",
      "5\n",
      "10\n",
      "15\n",
      "20\n",
      "25\n",
      "30\n",
      "35\n",
      "40\n",
      "45\n"
     ]
    }
   ],
   "source": [
    "res = []\n",
    "for i in range(len(l)):\n",
    "    print(l[i])\n",
    "    test_images = bag_of_words_SIFT_OII(test_image_paths, codebook_SIFT, l[i])\n",
    "    test_images_scaled = scaler.transform(test_images)\n",
    "    test_predictions = svm_SIFT.predict(test_images_scaled)\n",
    "    res.append(f1_score(test_labels, test_predictions, average='macro'))"
   ]
  },
  {
   "cell_type": "code",
   "execution_count": 48,
   "id": "4559c8df",
   "metadata": {},
   "outputs": [
    {
     "data": {
      "text/html": [
       "<div>\n",
       "<style scoped>\n",
       "    .dataframe tbody tr th:only-of-type {\n",
       "        vertical-align: middle;\n",
       "    }\n",
       "\n",
       "    .dataframe tbody tr th {\n",
       "        vertical-align: top;\n",
       "    }\n",
       "\n",
       "    .dataframe thead th {\n",
       "        text-align: right;\n",
       "    }\n",
       "</style>\n",
       "<table border=\"1\" class=\"dataframe\">\n",
       "  <thead>\n",
       "    <tr style=\"text-align: right;\">\n",
       "      <th></th>\n",
       "      <th>f-1</th>\n",
       "    </tr>\n",
       "  </thead>\n",
       "  <tbody>\n",
       "    <tr>\n",
       "      <th>0</th>\n",
       "      <td>0.278206</td>\n",
       "    </tr>\n",
       "    <tr>\n",
       "      <th>5</th>\n",
       "      <td>0.261746</td>\n",
       "    </tr>\n",
       "    <tr>\n",
       "      <th>10</th>\n",
       "      <td>0.262876</td>\n",
       "    </tr>\n",
       "    <tr>\n",
       "      <th>15</th>\n",
       "      <td>0.273177</td>\n",
       "    </tr>\n",
       "    <tr>\n",
       "      <th>20</th>\n",
       "      <td>0.265432</td>\n",
       "    </tr>\n",
       "    <tr>\n",
       "      <th>25</th>\n",
       "      <td>0.259253</td>\n",
       "    </tr>\n",
       "    <tr>\n",
       "      <th>30</th>\n",
       "      <td>0.262649</td>\n",
       "    </tr>\n",
       "    <tr>\n",
       "      <th>35</th>\n",
       "      <td>0.263044</td>\n",
       "    </tr>\n",
       "    <tr>\n",
       "      <th>40</th>\n",
       "      <td>0.265577</td>\n",
       "    </tr>\n",
       "    <tr>\n",
       "      <th>45</th>\n",
       "      <td>0.253402</td>\n",
       "    </tr>\n",
       "  </tbody>\n",
       "</table>\n",
       "</div>"
      ],
      "text/plain": [
       "         f-1\n",
       "0   0.278206\n",
       "5   0.261746\n",
       "10  0.262876\n",
       "15  0.273177\n",
       "20  0.265432\n",
       "25  0.259253\n",
       "30  0.262649\n",
       "35  0.263044\n",
       "40  0.265577\n",
       "45  0.253402"
      ]
     },
     "execution_count": 48,
     "metadata": {},
     "output_type": "execute_result"
    }
   ],
   "source": [
    "d = {'f-1': res}\n",
    "df = pd.DataFrame(data=d, index = l)\n",
    "df"
   ]
  },
  {
   "cell_type": "code",
   "execution_count": 49,
   "id": "c52d0dfb",
   "metadata": {},
   "outputs": [],
   "source": [
    "df.to_csv(\"Robustness_Testing_Results_SVM/Occlusion of the Image Increase.csv\")"
   ]
  },
  {
   "cell_type": "markdown",
   "id": "c75927f2",
   "metadata": {},
   "source": [
    "# Salt and Pepper Noise "
   ]
  },
  {
   "cell_type": "code",
   "execution_count": 50,
   "id": "28501697",
   "metadata": {},
   "outputs": [],
   "source": [
    "def bag_of_words_SIFT_SPN(image_paths, codebook, i):\n",
    "    sift = cv.SIFT_create(nfeatures=300)\n",
    "    codebook_size = codebook.shape[0]\n",
    "    image_features = []\n",
    "    for image_path in image_paths:\n",
    "        img = read_img(image_path, mono=True)\n",
    "        img = helper.salt_and_pepper(img, i)\n",
    "        img = cv.normalize(img, None, 0, 255, cv.NORM_MINMAX).astype('uint8')\n",
    "        keypoints, descriptors = sift.detectAndCompute(img, None)\n",
    "        bow = np.zeros(codebook_size)\n",
    "        if descriptors is not None:\n",
    "            distances = cdist(descriptors, codebook)\n",
    "            for d in distances:\n",
    "                bow[np.argmin(d)] += 1\n",
    "        image_features.append(bow.reshape(1, codebook_size))\n",
    "    image_features = np.concatenate(image_features)\n",
    "    return image_features"
   ]
  },
  {
   "cell_type": "code",
   "execution_count": 51,
   "id": "a5db68e3",
   "metadata": {},
   "outputs": [],
   "source": [
    "l =[0.00, 0.02, 0.04, 0.06, 0.08, 0.10, 0.12, 0.14, 0.16, 0.18]"
   ]
  },
  {
   "cell_type": "code",
   "execution_count": 52,
   "id": "5c26bc1d",
   "metadata": {},
   "outputs": [
    {
     "name": "stdout",
     "output_type": "stream",
     "text": [
      "0.0\n",
      "0.02\n",
      "0.04\n",
      "0.06\n",
      "0.08\n",
      "0.1\n",
      "0.12\n",
      "0.14\n",
      "0.16\n",
      "0.18\n"
     ]
    }
   ],
   "source": [
    "res = []\n",
    "for i in range(len(l)):\n",
    "    print(l[i])\n",
    "    test_images = bag_of_words_SIFT_SPN(test_image_paths, codebook_SIFT, l[i])\n",
    "    test_images_scaled = scaler.transform(test_images)\n",
    "    test_predictions = svm_SIFT.predict(test_images_scaled)\n",
    "    res.append(f1_score(test_labels, test_predictions, average='macro'))"
   ]
  },
  {
   "cell_type": "code",
   "execution_count": 53,
   "id": "b220db2f",
   "metadata": {},
   "outputs": [
    {
     "data": {
      "text/html": [
       "<div>\n",
       "<style scoped>\n",
       "    .dataframe tbody tr th:only-of-type {\n",
       "        vertical-align: middle;\n",
       "    }\n",
       "\n",
       "    .dataframe tbody tr th {\n",
       "        vertical-align: top;\n",
       "    }\n",
       "\n",
       "    .dataframe thead th {\n",
       "        text-align: right;\n",
       "    }\n",
       "</style>\n",
       "<table border=\"1\" class=\"dataframe\">\n",
       "  <thead>\n",
       "    <tr style=\"text-align: right;\">\n",
       "      <th></th>\n",
       "      <th>f-1</th>\n",
       "    </tr>\n",
       "  </thead>\n",
       "  <tbody>\n",
       "    <tr>\n",
       "      <th>0.00</th>\n",
       "      <td>0.278206</td>\n",
       "    </tr>\n",
       "    <tr>\n",
       "      <th>0.02</th>\n",
       "      <td>0.244745</td>\n",
       "    </tr>\n",
       "    <tr>\n",
       "      <th>0.04</th>\n",
       "      <td>0.239451</td>\n",
       "    </tr>\n",
       "    <tr>\n",
       "      <th>0.06</th>\n",
       "      <td>0.222626</td>\n",
       "    </tr>\n",
       "    <tr>\n",
       "      <th>0.08</th>\n",
       "      <td>0.176814</td>\n",
       "    </tr>\n",
       "    <tr>\n",
       "      <th>0.10</th>\n",
       "      <td>0.174893</td>\n",
       "    </tr>\n",
       "    <tr>\n",
       "      <th>0.12</th>\n",
       "      <td>0.155597</td>\n",
       "    </tr>\n",
       "    <tr>\n",
       "      <th>0.14</th>\n",
       "      <td>0.156653</td>\n",
       "    </tr>\n",
       "    <tr>\n",
       "      <th>0.16</th>\n",
       "      <td>0.128439</td>\n",
       "    </tr>\n",
       "    <tr>\n",
       "      <th>0.18</th>\n",
       "      <td>0.144291</td>\n",
       "    </tr>\n",
       "  </tbody>\n",
       "</table>\n",
       "</div>"
      ],
      "text/plain": [
       "           f-1\n",
       "0.00  0.278206\n",
       "0.02  0.244745\n",
       "0.04  0.239451\n",
       "0.06  0.222626\n",
       "0.08  0.176814\n",
       "0.10  0.174893\n",
       "0.12  0.155597\n",
       "0.14  0.156653\n",
       "0.16  0.128439\n",
       "0.18  0.144291"
      ]
     },
     "execution_count": 53,
     "metadata": {},
     "output_type": "execute_result"
    }
   ],
   "source": [
    "d = {'f-1': res}\n",
    "df = pd.DataFrame(data=d, index = l)\n",
    "df"
   ]
  },
  {
   "cell_type": "code",
   "execution_count": 54,
   "id": "d3cc10a1",
   "metadata": {},
   "outputs": [],
   "source": [
    "df.to_csv(\"Robustness_Testing_Results_SVM/Salt and Pepper Noise.csv\")"
   ]
  },
  {
   "cell_type": "code",
   "execution_count": null,
   "id": "ad30f57a",
   "metadata": {},
   "outputs": [],
   "source": []
  },
  {
   "cell_type": "code",
   "execution_count": null,
   "id": "93132efc",
   "metadata": {},
   "outputs": [],
   "source": []
  },
  {
   "cell_type": "code",
   "execution_count": null,
   "id": "505da850",
   "metadata": {},
   "outputs": [],
   "source": []
  }
 ],
 "metadata": {
  "kernelspec": {
   "display_name": "Python 3 (ipykernel)",
   "language": "python",
   "name": "python3"
  },
  "language_info": {
   "codemirror_mode": {
    "name": "ipython",
    "version": 3
   },
   "file_extension": ".py",
   "mimetype": "text/x-python",
   "name": "python",
   "nbconvert_exporter": "python",
   "pygments_lexer": "ipython3",
   "version": "3.10.8"
  }
 },
 "nbformat": 4,
 "nbformat_minor": 5
}
