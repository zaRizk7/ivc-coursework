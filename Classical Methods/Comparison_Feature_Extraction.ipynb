{
 "cells": [
  {
   "cell_type": "code",
   "execution_count": 32,
   "id": "421be40c",
   "metadata": {},
   "outputs": [],
   "source": [
    "import os\n",
    "import cv2 as cv\n",
    "import argparse\n",
    "from sklearn.svm import LinearSVC\n",
    "from skimage import feature\n",
    "import pandas as pd\n",
    "import os\n",
    "from skimage.transform import resize\n",
    "from skimage.io import imread\n",
    "import numpy as np\n",
    "import matplotlib.pyplot as plt\n",
    "from utils import read_img\n",
    "from sklearn.metrics import f1_score\n",
    "import joblib\n",
    "from scipy.spatial.distance import cdist\n",
    "from sklearn.preprocessing import StandardScaler"
   ]
  },
  {
   "cell_type": "code",
   "execution_count": 2,
   "id": "7528f6d4",
   "metadata": {},
   "outputs": [
    {
     "name": "stdout",
     "output_type": "stream",
     "text": [
      "loading... category : black widow\n",
      "loaded category:black widow successfully\n",
      "loading... category : captain america\n",
      "loaded category:captain america successfully\n",
      "loading... category : doctor strange\n",
      "loaded category:doctor strange successfully\n",
      "loading... category : hulk\n",
      "loaded category:hulk successfully\n",
      "loading... category : ironman\n",
      "loaded category:ironman successfully\n",
      "loading... category : loki\n",
      "loaded category:loki successfully\n",
      "loading... category : spider-man\n",
      "loaded category:spider-man successfully\n",
      "loading... category : thanos\n",
      "loaded category:thanos successfully\n"
     ]
    }
   ],
   "source": [
    "train_image_paths = []\n",
    "train_labels = []\n",
    "# get all the image folder paths\n",
    "Categories=['black widow', 'captain america', 'doctor strange', 'hulk', 'ironman', 'loki', 'spider-man', 'thanos']\n",
    "datadir='dataset\\\\train' \n",
    "\n",
    "for i in Categories:\n",
    "    \n",
    "    print(f'loading... category : {i}')\n",
    "    path=os.path.join(datadir,i)\n",
    "    for img in os.listdir(path):\n",
    "        train_image_paths.append(os.path.join(path,img))\n",
    "        train_labels.append(Categories.index(i))\n",
    "    print(f'loaded category:{i} successfully')"
   ]
  },
  {
   "cell_type": "code",
   "execution_count": 3,
   "id": "48a73aa0",
   "metadata": {},
   "outputs": [
    {
     "name": "stdout",
     "output_type": "stream",
     "text": [
      "loading... category : black widow\n",
      "loaded category:black widow successfully\n",
      "loading... category : captain america\n",
      "loaded category:captain america successfully\n",
      "loading... category : doctor strange\n",
      "loaded category:doctor strange successfully\n",
      "loading... category : hulk\n",
      "loaded category:hulk successfully\n",
      "loading... category : ironman\n",
      "loaded category:ironman successfully\n",
      "loading... category : loki\n",
      "loaded category:loki successfully\n",
      "loading... category : spider-man\n",
      "loaded category:spider-man successfully\n",
      "loading... category : thanos\n",
      "loaded category:thanos successfully\n"
     ]
    }
   ],
   "source": [
    "test_image_paths = []\n",
    "test_labels = []\n",
    "# get all the image folder paths\n",
    "Categories=['black widow', 'captain america', 'doctor strange', 'hulk', 'ironman', 'loki', 'spider-man', 'thanos']\n",
    "datadir='dataset\\\\test' \n",
    "\n",
    "for i in Categories:\n",
    "    \n",
    "    print(f'loading... category : {i}')\n",
    "    path=os.path.join(datadir,i)\n",
    "    for img in os.listdir(path):\n",
    "        test_image_paths.append(os.path.join(path,img))\n",
    "        test_labels.append(Categories.index(i))\n",
    "    print(f'loaded category:{i} successfully')"
   ]
  },
  {
   "cell_type": "markdown",
   "id": "30e50368",
   "metadata": {},
   "source": [
    "# SIFT"
   ]
  },
  {
   "cell_type": "code",
   "execution_count": 4,
   "id": "118339a1",
   "metadata": {},
   "outputs": [],
   "source": [
    "scaler = StandardScaler()\n",
    "def bag_of_words_SIFT(image_paths, codebook):\n",
    "    orb = cv.SIFT_create(nfeatures=300)\n",
    "    codebook_size = codebook.shape[0]\n",
    "    image_features = []\n",
    "    for image_path in image_paths:\n",
    "        img = read_img(image_path, mono=True)\n",
    "        keypoints, descriptors = orb.detectAndCompute(img, None)\n",
    "        bow = np.zeros(codebook_size)\n",
    "        if descriptors is not None:\n",
    "            distances = cdist(descriptors, codebook)\n",
    "            for d in distances:\n",
    "                bow[np.argmin(d)] += 1\n",
    "        image_features.append(bow.reshape(1, codebook_size))\n",
    "    image_features = np.concatenate(image_features)\n",
    "    return image_features"
   ]
  },
  {
   "cell_type": "code",
   "execution_count": 5,
   "id": "397d8d0d",
   "metadata": {},
   "outputs": [],
   "source": [
    "codebook_SIFT = joblib.load('codebook_SIFT.joblib')\n",
    "svm_SIFT = joblib.load('svm_bow_SIFT.joblib')"
   ]
  },
  {
   "cell_type": "code",
   "execution_count": 6,
   "id": "1b0d393b",
   "metadata": {},
   "outputs": [
    {
     "name": "stdout",
     "output_type": "stream",
     "text": [
      "Generating BOW features for training set...\n",
      "Train images: (2325, 150)\n",
      "Generating BOW features for test set...\n",
      "Test images: (451, 150)\n"
     ]
    }
   ],
   "source": [
    "print('Generating BOW features for training set...')\n",
    "train_images_SIFT = bag_of_words_SIFT(train_image_paths, codebook_SIFT)\n",
    "train_images_scaled_SIFT = scaler.fit_transform(train_images_SIFT)\n",
    "print('Train images:', train_images_SIFT.shape)\n",
    "\n",
    "print('Generating BOW features for test set...')\n",
    "test_images_SIFT = bag_of_words_SIFT(test_image_paths, codebook_SIFT)\n",
    "test_images_scaled_SIFT = scaler.transform(test_images_SIFT)\n",
    "print('Test images:', test_images_SIFT.shape)\n"
   ]
  },
  {
   "cell_type": "code",
   "execution_count": 7,
   "id": "adcba31f",
   "metadata": {},
   "outputs": [
    {
     "name": "stdout",
     "output_type": "stream",
     "text": [
      "0.26056000856311634\n"
     ]
    }
   ],
   "source": [
    "test_predictions_SIFT = svm_SIFT.predict(test_images_scaled_SIFT)\n",
    "f1_SIFT = f1_score(test_labels, test_predictions_SIFT, average='macro')\n",
    "print(f1_SIFT)"
   ]
  },
  {
   "cell_type": "markdown",
   "id": "9e936827",
   "metadata": {},
   "source": [
    "# ORB"
   ]
  },
  {
   "cell_type": "code",
   "execution_count": 8,
   "id": "508b9a3a",
   "metadata": {},
   "outputs": [],
   "source": [
    "scaler = StandardScaler()\n",
    "def bag_of_words_ORB(image_paths, codebook):\n",
    "    orb = cv.ORB_create(nfeatures=300)\n",
    "    codebook_size = codebook.shape[0]\n",
    "    image_features = []\n",
    "    for image_path in image_paths:\n",
    "        img = read_img(image_path, mono=True)\n",
    "        keypoints, descriptors = orb.detectAndCompute(img, None)\n",
    "        bow = np.zeros(codebook_size)\n",
    "        if descriptors is not None:\n",
    "            distances = cdist(descriptors, codebook)\n",
    "            for d in distances:\n",
    "                bow[np.argmin(d)] += 1\n",
    "        image_features.append(bow.reshape(1, codebook_size))\n",
    "    image_features = np.concatenate(image_features)\n",
    "    return image_features"
   ]
  },
  {
   "cell_type": "code",
   "execution_count": 9,
   "id": "2fa23f07",
   "metadata": {},
   "outputs": [],
   "source": [
    "codebook_ORB = joblib.load('codebook_ORB.joblib')\n",
    "svm_ORB = joblib.load('svm_bow_ORB.joblib')"
   ]
  },
  {
   "cell_type": "code",
   "execution_count": 10,
   "id": "be7c9d6f",
   "metadata": {},
   "outputs": [
    {
     "name": "stdout",
     "output_type": "stream",
     "text": [
      "Generating BOW features for training set...\n",
      "Train images: (2325, 150)\n",
      "Generating BOW features for test set...\n",
      "Test images: (451, 150)\n"
     ]
    }
   ],
   "source": [
    "print('Generating BOW features for training set...')\n",
    "train_images_ORB = bag_of_words_ORB(train_image_paths, codebook_ORB)\n",
    "train_images_scaled_ORB = scaler.fit_transform(train_images_ORB)\n",
    "print('Train images:', train_images_ORB.shape)\n",
    "\n",
    "print('Generating BOW features for test set...')\n",
    "test_images_ORB = bag_of_words_ORB(test_image_paths, codebook_ORB)\n",
    "test_images_scaled_ORB = scaler.transform(test_images_ORB)\n",
    "print('Test images:', test_images_ORB.shape)"
   ]
  },
  {
   "cell_type": "code",
   "execution_count": 11,
   "id": "fea28764",
   "metadata": {},
   "outputs": [
    {
     "name": "stdout",
     "output_type": "stream",
     "text": [
      "0.212595346275376\n"
     ]
    }
   ],
   "source": [
    "test_predictions_ORB = svm_ORB.predict(test_images_scaled_ORB)\n",
    "f1_ORB = f1_score(test_labels, test_predictions_ORB, average='macro')\n",
    "print(f1_ORB)"
   ]
  },
  {
   "cell_type": "markdown",
   "id": "12c7d1b2",
   "metadata": {},
   "source": [
    "# BRISK"
   ]
  },
  {
   "cell_type": "code",
   "execution_count": 12,
   "id": "188bece4",
   "metadata": {},
   "outputs": [],
   "source": [
    "scaler = StandardScaler()\n",
    "def bag_of_words_BRISK(image_paths, codebook):\n",
    "    brisk = cv.BRISK_create()\n",
    "    codebook_size = codebook.shape[0]\n",
    "    image_features = []\n",
    "    for image_path in image_paths:\n",
    "        img = read_img(image_path, mono=True)\n",
    "        keypoints, descriptors = brisk.detectAndCompute(img, None)\n",
    "        bow = np.zeros(codebook_size)\n",
    "        if descriptors is not None:\n",
    "            distances = cdist(descriptors, codebook)\n",
    "            for d in distances:\n",
    "                bow[np.argmin(d)] += 1\n",
    "        image_features.append(bow.reshape(1, codebook_size))\n",
    "    image_features = np.concatenate(image_features)\n",
    "    return image_features"
   ]
  },
  {
   "cell_type": "code",
   "execution_count": 13,
   "id": "770f2a6f",
   "metadata": {},
   "outputs": [],
   "source": [
    "codebook_BRISK = joblib.load('codebook_BRISK.joblib')\n",
    "svm_BRISK = joblib.load('svm_bow_BRISK.joblib')"
   ]
  },
  {
   "cell_type": "code",
   "execution_count": 14,
   "id": "0a7438f9",
   "metadata": {},
   "outputs": [
    {
     "name": "stdout",
     "output_type": "stream",
     "text": [
      "Generating BOW features for training set...\n",
      "Train images: (2325, 150)\n",
      "Generating BOW features for test set...\n",
      "Test images: (451, 150)\n"
     ]
    }
   ],
   "source": [
    "print('Generating BOW features for training set...')\n",
    "train_images_BRISK = bag_of_words_BRISK(train_image_paths, codebook_BRISK)\n",
    "train_images_scaled_BRISK = scaler.fit_transform(train_images_BRISK)\n",
    "print('Train images:', train_images_BRISK.shape)\n",
    "\n",
    "print('Generating BOW features for test set...')\n",
    "test_images_BRISK = bag_of_words_BRISK(test_image_paths, codebook_BRISK)\n",
    "test_images_scaled_BRISK = scaler.transform(test_images_BRISK)\n",
    "print('Test images:', test_images_BRISK.shape)"
   ]
  },
  {
   "cell_type": "code",
   "execution_count": 15,
   "id": "a07eec4f",
   "metadata": {},
   "outputs": [
    {
     "name": "stdout",
     "output_type": "stream",
     "text": [
      "0.20246804369346988\n"
     ]
    }
   ],
   "source": [
    "test_predictions_BRISK = svm_BRISK.predict(test_images_scaled_BRISK)\n",
    "f1_BRISK = f1_score(test_labels, test_predictions_BRISK, average='macro')\n",
    "print(f1_BRISK)"
   ]
  },
  {
   "cell_type": "markdown",
   "id": "312a7ad2",
   "metadata": {},
   "source": [
    "# FAST"
   ]
  },
  {
   "cell_type": "code",
   "execution_count": 36,
   "id": "8015bce6",
   "metadata": {},
   "outputs": [],
   "source": [
    "scaler = StandardScaler()\n",
    "def bag_of_words_FAST(image_paths, codebook):\n",
    "    fast = cv.FastFeatureDetector_create()\n",
    "    br = cv.BRISK_create();\n",
    "    codebook_size = codebook.shape[0]\n",
    "    image_features = []\n",
    "    for image_path in image_paths:\n",
    "        img = read_img(image_path, mono=True)\n",
    "        keypoints = fast.detect(img, None)\n",
    "        keypoints, descriptors = br.compute(img,  keypoints)\n",
    "        #keypoints, descriptors = sift.detectAndCompute(img, None)\n",
    "        bow = np.zeros(codebook_size)\n",
    "        if descriptors is not None:\n",
    "            distances = cdist(descriptors, codebook)\n",
    "            for d in distances:\n",
    "                bow[np.argmin(d)] += 1\n",
    "        image_features.append(bow.reshape(1, codebook_size))\n",
    "    image_features = np.concatenate(image_features)\n",
    "    return image_features"
   ]
  },
  {
   "cell_type": "code",
   "execution_count": 37,
   "id": "b8416c75",
   "metadata": {},
   "outputs": [],
   "source": [
    "codebook_FAST = joblib.load('codebook_FAST.joblib')\n",
    "svm_FAST = joblib.load('svm_bow_FAST.joblib')"
   ]
  },
  {
   "cell_type": "code",
   "execution_count": 38,
   "id": "f52855a6",
   "metadata": {},
   "outputs": [
    {
     "name": "stdout",
     "output_type": "stream",
     "text": [
      "Generating BOW features for training set...\n",
      "Train images: (2325, 150)\n",
      "Generating BOW features for test set...\n",
      "Test images: (451, 150)\n"
     ]
    }
   ],
   "source": [
    "print('Generating BOW features for training set...')\n",
    "train_images_FAST = bag_of_words_FAST(train_image_paths, codebook_FAST)\n",
    "train_images_scaled_FAST = scaler.fit_transform(train_images_FAST)\n",
    "print('Train images:', train_images_FAST.shape)\n",
    "\n",
    "print('Generating BOW features for test set...')\n",
    "test_images_FAST = bag_of_words_FAST(test_image_paths, codebook_FAST)\n",
    "test_images_scaled_FAST = scaler.transform(test_images_FAST)\n",
    "print('Test images:', test_images_FAST.shape)"
   ]
  },
  {
   "cell_type": "code",
   "execution_count": 39,
   "id": "6a962b24",
   "metadata": {},
   "outputs": [
    {
     "name": "stdout",
     "output_type": "stream",
     "text": [
      "0.24120817362287178\n"
     ]
    }
   ],
   "source": [
    "test_predictions_FAST = svm_FAST.predict(test_images_scaled_FAST)\n",
    "f1_FAST = f1_score(test_labels, test_predictions_FAST, average='macro')\n",
    "print(f1_FAST)"
   ]
  },
  {
   "cell_type": "markdown",
   "id": "7e08be76",
   "metadata": {},
   "source": [
    "# HoG"
   ]
  },
  {
   "cell_type": "code",
   "execution_count": 16,
   "id": "84222419",
   "metadata": {},
   "outputs": [],
   "source": [
    "scaler = StandardScaler()\n",
    "def bag_of_words_HOG(image_paths, codebook):\n",
    "    codebook_size = codebook.shape[0]\n",
    "    image_features = []\n",
    "    for image_path in image_paths:\n",
    "        img = read_img(image_path, mono=True)\n",
    "        (hog, descriptors) = feature.hog(img, orientations=9, \n",
    "                    pixels_per_cell=(8, 8), cells_per_block=(2, 2), \n",
    "                    block_norm='L2-Hys', visualize=True, transform_sqrt=True)\n",
    "        bow = np.zeros(codebook_size)\n",
    "        if descriptors is not None:\n",
    "            distances = cdist(descriptors, codebook)\n",
    "            for d in distances:\n",
    "                bow[np.argmin(d)] += 1\n",
    "        image_features.append(bow.reshape(1, codebook_size))\n",
    "    image_features = np.concatenate(image_features)\n",
    "    return image_features"
   ]
  },
  {
   "cell_type": "code",
   "execution_count": 17,
   "id": "e30824b6",
   "metadata": {},
   "outputs": [],
   "source": [
    "codebook_HOG = joblib.load('codebook_HoG.joblib')\n",
    "svm_HOG = joblib.load('svm_bow_HoG.joblib')"
   ]
  },
  {
   "cell_type": "code",
   "execution_count": 18,
   "id": "975069a0",
   "metadata": {},
   "outputs": [
    {
     "name": "stdout",
     "output_type": "stream",
     "text": [
      "Generating BOW features for training set...\n",
      "Train images: (2325, 150)\n",
      "Generating BOW features for test set...\n",
      "Test images: (451, 150)\n"
     ]
    }
   ],
   "source": [
    "print('Generating BOW features for training set...')\n",
    "train_images_HOG = bag_of_words_HOG(train_image_paths, codebook_HOG)\n",
    "train_images_scaled_HOG = scaler.fit_transform(train_images_HOG)\n",
    "print('Train images:', train_images_HOG.shape)\n",
    "\n",
    "print('Generating BOW features for test set...')\n",
    "test_images_HOG = bag_of_words_HOG(test_image_paths, codebook_HOG)\n",
    "test_images_scaled_HOG = scaler.transform(test_images_HOG)\n",
    "print('Test images:', test_images_HOG.shape)"
   ]
  },
  {
   "cell_type": "code",
   "execution_count": 19,
   "id": "edc3498f",
   "metadata": {},
   "outputs": [
    {
     "name": "stdout",
     "output_type": "stream",
     "text": [
      "0.20723584890672497\n"
     ]
    }
   ],
   "source": [
    "test_predictions_HOG = svm_HOG.predict(test_images_scaled_HOG)\n",
    "f1_HOG = f1_score(test_labels, test_predictions_HOG, average='macro')\n",
    "print(f1_HOG)"
   ]
  },
  {
   "cell_type": "markdown",
   "id": "06b0e077",
   "metadata": {},
   "source": [
    "# Plotting"
   ]
  },
  {
   "cell_type": "code",
   "execution_count": 20,
   "id": "2f705690",
   "metadata": {},
   "outputs": [],
   "source": [
    "import matplotlib.pyplot as plt"
   ]
  },
  {
   "cell_type": "code",
   "execution_count": 40,
   "id": "e5e523b6",
   "metadata": {},
   "outputs": [],
   "source": [
    "y = [f1_SIFT, f1_BRISK, f1_ORB, f1_FAST, f1_HOG]\n",
    "\n",
    "x = ['SIFT', 'BRISK', 'ORB', 'FAST', 'HoG'] \n",
    "\n",
    "\n",
    "y_pos = np.arange(len(y))"
   ]
  },
  {
   "cell_type": "code",
   "execution_count": 58,
   "id": "62ad933a",
   "metadata": {},
   "outputs": [
    {
     "data": {
      "image/png": "[encoded data removed]",
      "text/plain": [
       "<Figure size 432x288 with 1 Axes>"
      ]
     },
     "metadata": {
      "needs_background": "light"
     },
     "output_type": "display_data"
    }
   ],
   "source": [
    "plt.bar(y_pos, y, align='center', color = [(0.2, 0.4, 0.6, 0.6),(0.4, 0.4, 0.6, 0.6),(0.8, 0.4, 0.6, 0.6),(0.4, 0.6, 0.6, 0.6),(0.2, 0.2, 0.8, 0.6)])\n",
    "plt.xticks(y_pos, x)\n",
    "plt.ylabel('F-1 Score')\n",
    "plt.title('Feature Extraction Comparison')\n",
    "plt.show()"
   ]
  },
  {
   "cell_type": "code",
   "execution_count": null,
   "id": "a9c8a22d",
   "metadata": {},
   "outputs": [],
   "source": []
  },
  {
   "cell_type": "code",
   "execution_count": null,
   "id": "6603ce92",
   "metadata": {},
   "outputs": [],
   "source": []
  },
  {
   "cell_type": "code",
   "execution_count": null,
   "id": "99878200",
   "metadata": {},
   "outputs": [],
   "source": []
  },
  {
   "cell_type": "code",
   "execution_count": null,
   "id": "517dc81f",
   "metadata": {},
   "outputs": [],
   "source": []
  },
  {
   "cell_type": "code",
   "execution_count": null,
   "id": "d870398d",
   "metadata": {},
   "outputs": [],
   "source": []
  }
 ],
 "metadata": {
  "kernelspec": {
   "display_name": "Python 3",
   "language": "python",
   "name": "python3"
  },
  "language_info": {
   "codemirror_mode": {
    "name": "ipython",
    "version": 3
   },
   "file_extension": ".py",
   "mimetype": "text/x-python",
   "name": "python",
   "nbconvert_exporter": "python",
   "pygments_lexer": "ipython3",
   "version": "3.8.8"
  }
 },
 "nbformat": 4,
 "nbformat_minor": 5
}
