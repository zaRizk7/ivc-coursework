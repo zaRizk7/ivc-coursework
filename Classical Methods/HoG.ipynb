{
 "cells": [
  {
   "cell_type": "code",
   "execution_count": 2,
   "id": "be273cae",
   "metadata": {},
   "outputs": [
    {
     "data": {
      "text/plain": [
       "-1"
      ]
     },
     "execution_count": 2,
     "metadata": {},
     "output_type": "execute_result"
    }
   ],
   "source": [
    "from skimage import feature\n",
    "import cv2\n",
    "import matplotlib.pyplot as plt\n",
    "image = cv2.imread(r\"dataset\\train\\hulk\\pic_031.jpg\")\n",
    "(hog, hog_image) = feature.hog(image, orientations=9, \n",
    "                    pixels_per_cell=(8, 8), cells_per_block=(2, 2), \n",
    "                    block_norm='L2-Hys', visualize=True, transform_sqrt=True)\n",
    "cv2.imshow('HOG Image', hog_image)\n",
    "cv2.imwrite('hog.jpg', hog_image*255.)\n",
    "cv2.waitKey(0)\n",
    "\n"
   ]
  },
  {
   "cell_type": "code",
   "execution_count": 4,
   "id": "14633a6f",
   "metadata": {},
   "outputs": [
    {
     "data": {
      "text/plain": [
       "array([0.13566885, 0.0470552 , 0.09437382, ..., 0.26085527, 0.28291874,\n",
       "       0.19115943])"
      ]
     },
     "execution_count": 4,
     "metadata": {},
     "output_type": "execute_result"
    }
   ],
   "source": [
    "hog"
   ]
  },
  {
   "cell_type": "code",
   "execution_count": 2,
   "id": "cf404976",
   "metadata": {},
   "outputs": [],
   "source": [
    "\n",
    "import os\n",
    "import cv2\n",
    "import argparse\n",
    "from sklearn.svm import LinearSVC\n",
    "from skimage import feature\n",
    "import pandas as pd\n",
    "import os\n",
    "from skimage.transform import resize\n",
    "from skimage.io import imread\n",
    "import numpy as np\n",
    "import matplotlib.pyplot as plt"
   ]
  },
  {
   "cell_type": "code",
   "execution_count": 3,
   "id": "c003a72b",
   "metadata": {},
   "outputs": [
    {
     "name": "stdout",
     "output_type": "stream",
     "text": [
      "loading... category : black widow\n",
      "loaded category:black widow successfully\n",
      "loading... category : captain america\n",
      "loaded category:captain america successfully\n",
      "loading... category : doctor strange\n",
      "loaded category:doctor strange successfully\n",
      "loading... category : hulk\n",
      "loaded category:hulk successfully\n",
      "loading... category : ironman\n",
      "loaded category:ironman successfully\n",
      "loading... category : loki\n",
      "loaded category:loki successfully\n",
      "loading... category : spider-man\n",
      "loaded category:spider-man successfully\n",
      "loading... category : thanos\n",
      "loaded category:thanos successfully\n"
     ]
    }
   ],
   "source": [
    "images = []\n",
    "labels = []\n",
    "# get all the image folder paths\n",
    "Categories=['black widow', 'captain america', 'doctor strange', 'hulk', 'ironman', 'loki', 'spider-man', 'thanos']\n",
    "datadir='dataset/train' \n",
    "\n",
    "for i in Categories:\n",
    "    \n",
    "    print(f'loading... category : {i}')\n",
    "    path=os.path.join(datadir,i)\n",
    "    for img in os.listdir(path):\n",
    "        image = cv2.imread(os.path.join(path,img))\n",
    "        image = cv2.resize(image, (128, 256))\n",
    "        hog_desc = feature.hog(image, orientations=9, pixels_per_cell=(8, 8),\n",
    "            cells_per_block=(2, 2), transform_sqrt=True, block_norm='L2-Hys')\n",
    "        images.append(hog_desc)\n",
    "        labels.append(Categories.index(i))\n",
    "    print(f'loaded category:{i} successfully')\n",
    "    \n"
   ]
  },
  {
   "cell_type": "code",
   "execution_count": 4,
   "id": "c6f91ddf",
   "metadata": {},
   "outputs": [
    {
     "name": "stdout",
     "output_type": "stream",
     "text": [
      "Training on train images...\n"
     ]
    },
    {
     "name": "stderr",
     "output_type": "stream",
     "text": [
      "C:\\Users\\lukas\\anaconda3\\lib\\site-packages\\sklearn\\svm\\_base.py:1206: ConvergenceWarning: Liblinear failed to converge, increase the number of iterations.\n",
      "  warnings.warn(\n"
     ]
    },
    {
     "data": {
      "text/plain": [
       "LinearSVC(random_state=42, tol=1e-05)"
      ]
     },
     "execution_count": 4,
     "metadata": {},
     "output_type": "execute_result"
    }
   ],
   "source": [
    "print('Training on train images...')\n",
    "svm_model = LinearSVC(random_state=42, tol=1e-5)\n",
    "svm_model.fit(images, labels)"
   ]
  },
  {
   "cell_type": "code",
   "execution_count": 5,
   "id": "e3a757bc",
   "metadata": {},
   "outputs": [
    {
     "name": "stdout",
     "output_type": "stream",
     "text": [
      "loading... category : black widow\n",
      "loaded category:black widow successfully\n",
      "loading... category : captain america\n",
      "loaded category:captain america successfully\n",
      "loading... category : doctor strange\n",
      "loaded category:doctor strange successfully\n",
      "loading... category : hulk\n",
      "loaded category:hulk successfully\n",
      "loading... category : ironman\n",
      "loaded category:ironman successfully\n",
      "loading... category : loki\n",
      "loaded category:loki successfully\n",
      "loading... category : spider-man\n",
      "loaded category:spider-man successfully\n",
      "loading... category : thanos\n",
      "loaded category:thanos successfully\n"
     ]
    }
   ],
   "source": [
    "images_test = []\n",
    "labels_test = []\n",
    "pred = []\n",
    "# get all the image folder paths\n",
    "Categories=['black widow', 'captain america', 'doctor strange', 'hulk', 'ironman', 'loki', 'spider-man', 'thanos']\n",
    "datadir='dataset/test' \n",
    "\n",
    "for i in Categories:\n",
    "    \n",
    "    print(f'loading... category : {i}')\n",
    "    path=os.path.join(datadir,i)\n",
    "    for img in os.listdir(path):\n",
    "        image = cv2.imread(os.path.join(path,img))\n",
    "        image = cv2.resize(image, (128, 256))\n",
    "        (hog_desc, hog_image)  = feature.hog(image, orientations=9, pixels_per_cell=(8, 8),\n",
    "            cells_per_block=(2, 2), transform_sqrt=True, block_norm='L2-Hys', visualize = True)\n",
    "        pred_made = svm_model.predict(hog_desc.reshape(1, -1))[0]\n",
    "        pred.append(pred_made)\n",
    "        images_test.append(hog_desc)\n",
    "        labels_test.append(Categories.index(i))\n",
    "    print(f'loaded category:{i} successfully')"
   ]
  },
  {
   "cell_type": "code",
   "execution_count": 6,
   "id": "a80c90ed",
   "metadata": {},
   "outputs": [
    {
     "data": {
      "text/plain": [
       "0.15299334811529933"
      ]
     },
     "execution_count": 6,
     "metadata": {},
     "output_type": "execute_result"
    }
   ],
   "source": [
    "svm_model.score(images_test, labels_test)"
   ]
  },
  {
   "cell_type": "markdown",
   "id": "6149da55",
   "metadata": {},
   "source": [
    "So, all in all, HOG is a great feature descriptor that we can use for image recognition. But the images that we use should have very distinguishable gradients, else the HOG feature descriptor may perform poorly.\n",
    "https://debuggercafe.com/image-recognition-using-histogram-of-oriented-gradients-hog-descriptor/"
   ]
  },
  {
   "cell_type": "code",
   "execution_count": null,
   "id": "39040127",
   "metadata": {},
   "outputs": [],
   "source": []
  },
  {
   "cell_type": "code",
   "execution_count": null,
   "id": "e1119bdb",
   "metadata": {},
   "outputs": [],
   "source": []
  },
  {
   "cell_type": "markdown",
   "id": "967267ec",
   "metadata": {},
   "source": [
    "svm_model.score(images_test, labels)"
   ]
  },
  {
   "cell_type": "code",
   "execution_count": null,
   "id": "d849d5f7",
   "metadata": {},
   "outputs": [],
   "source": []
  },
  {
   "cell_type": "code",
   "execution_count": null,
   "id": "f4440445",
   "metadata": {},
   "outputs": [],
   "source": []
  }
 ],
 "metadata": {
  "kernelspec": {
   "display_name": "Python 3",
   "language": "python",
   "name": "python3"
  },
  "language_info": {
   "codemirror_mode": {
    "name": "ipython",
    "version": 3
   },
   "file_extension": ".py",
   "mimetype": "text/x-python",
   "name": "python",
   "nbconvert_exporter": "python",
   "pygments_lexer": "ipython3",
   "version": "3.8.8"
  }
 },
 "nbformat": 4,
 "nbformat_minor": 5
}
