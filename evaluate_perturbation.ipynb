{
 "cells": [
  {
   "cell_type": "code",
   "execution_count": 1,
   "id": "a63ff8d9-35a1-4205-85cb-d85bd504d9d1",
   "metadata": {},
   "outputs": [],
   "source": [
    "import json\n",
    "import os\n",
    "\n",
    "import helper\n",
    "import torch\n",
    "from torchvision import datasets\n",
    "from torchvision import transforms as T\n",
    "from tqdm import tqdm\n",
    "\n",
    "torch.manual_seed(2022)"
   ]
  },
  {
   "cell_type": "code",
   "execution_count": 2,
   "id": "a79989b6-db5f-4dfb-8201-92d4ce0e0f15",
   "metadata": {},
   "outputs": [
    {
     "name": "stderr",
     "output_type": "stream",
     "text": [
      "100%|██████████| 44/44 [03:48<00:00,  5.20s/it, Accuracy=0.654, F1-Macro=0.653, Loss=1.11, Subset=Test, backbone=densenet169, perturbation=occlusion, value=25]             \n"
     ]
    }
   ],
   "source": [
    "backbones = [\"resnet26d\", \"convnext_nano\", \"resmlp_12_224\", \"densenet169\"]\n",
    "transform = T.Compose(\n",
    "    [\n",
    "        T.ToTensor(),\n",
    "        T.Normalize([0.485, 0.456, 0.406], [0.229, 0.224, 0.225]),\n",
    "    ]\n",
    ")\n",
    "criterion = torch.nn.CrossEntropyLoss().cuda().eval()\n",
    "\n",
    "result = {}\n",
    "datalist = os.listdir(\"dataset\")\n",
    "with tqdm(total=len(backbones) * len(datalist)) as pbar:\n",
    "    for b in backbones:\n",
    "        result[b] = {}\n",
    "        backbone = helper.pretrained(b)\n",
    "        classifier = helper.generate_classifier(backbone, 8)\n",
    "        classifier.load_state_dict(torch.load(f\"weights/{b}.pt\"))\n",
    "        classifier = classifier.cuda().eval()\n",
    "        dataset = datasets.ImageFolder(\"dataset/test\", transform=transform)\n",
    "        dataloader = {\"test\": torch.utils.data.DataLoader(dataset, 512)}\n",
    "        result[b][\"default\"] = helper.evaluate(\n",
    "            dataloader, classifier, criterion, \"test\"\n",
    "        )\n",
    "        pbar.set_postfix(backbone=b, **result[b][\"default\"])\n",
    "        for p in datalist:\n",
    "            if p in [\"train\", \"valid\", \"test\"]:\n",
    "                pbar.update()\n",
    "                continue\n",
    "\n",
    "            result[b][p] = {}\n",
    "            path = os.path.join(\"dataset\", p)\n",
    "            for v in os.listdir(path):\n",
    "                datadir = os.path.join(path, v)\n",
    "                dataset = datasets.ImageFolder(datadir, transform=transform)\n",
    "                dataloader = {\"test\": torch.utils.data.DataLoader(dataset, 512)}\n",
    "                result[b][p][v] = helper.evaluate(\n",
    "                    dataloader, classifier, criterion, \"test\"\n",
    "                )\n",
    "                pbar.set_postfix(backbone=b, perturbation=p, value=v, **result[b][p][v])\n",
    "            pbar.update()\n",
    "        del backbone, classifier"
   ]
  },
  {
   "cell_type": "code",
   "execution_count": 3,
   "id": "40cab7ff-c92a-43b9-9b07-ce58a5ef6b87",
   "metadata": {},
   "outputs": [],
   "source": [
    "with open(\"logs/evaluation.json\", \"w\") as f:\n",
    "    f.write(json.dumps(result))"
   ]
  }
 ],
 "metadata": {
  "kernelspec": {
   "display_name": "Python 3 (ipykernel)",
   "language": "python",
   "name": "python3"
  },
  "language_info": {
   "codemirror_mode": {
    "name": "ipython",
    "version": 3
   },
   "file_extension": ".py",
   "mimetype": "text/x-python",
   "name": "python",
   "nbconvert_exporter": "python",
   "pygments_lexer": "ipython3",
   "version": "3.8.10"
  }
 },
 "nbformat": 4,
 "nbformat_minor": 5
}
