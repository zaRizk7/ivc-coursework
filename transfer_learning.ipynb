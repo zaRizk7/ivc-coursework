{
 "cells": [
  {
   "cell_type": "code",
   "execution_count": 1,
   "id": "ba9637ac-a800-411a-983e-977613f85ede",
   "metadata": {},
   "outputs": [],
   "source": [
    "import torch\n",
    "import logging\n",
    "import helper\n",
    "\n",
    "\n",
    "device = \"cuda\" if torch.cuda.is_available() else \"cpu\"\n",
    "logger = logging.getLogger()\n",
    "logger.setLevel(logging.INFO)\n",
    "logger.handlers = [logging.StreamHandler()]\n"
   ]
  },
  {
   "cell_type": "code",
   "execution_count": 2,
   "id": "498580e6-2eb2-4463-bbf9-a58341d94095",
   "metadata": {},
   "outputs": [
    {
     "name": "stderr",
     "output_type": "stream",
     "text": [
      "Training resnet26d\n",
      "Loading pretrained weights from url (https://github.com/rwightman/pytorch-image-models/releases/download/v0.1-weights/resnet26d-69e92c46.pth)\n",
      "100%|██████████| 200/200 [18:03<00:00,  5.42s/it, Subset=Valid, Loss=1.05, Accuracy=0.664, F1-Macro=0.662]\n",
      "Training convnext_nano\n",
      "Loading pretrained weights from url (https://github.com/rwightman/pytorch-image-models/releases/download/v0.1-rsb-weights/convnext_nano_d1h-7eb4bdea.pth)\n",
      "Downloading: \"https://github.com/rwightman/pytorch-image-models/releases/download/v0.1-rsb-weights/convnext_nano_d1h-7eb4bdea.pth\" to /root/.cache/torch/hub/checkpoints/convnext_nano_d1h-7eb4bdea.pth\n",
      "100%|██████████| 200/200 [18:19<00:00,  5.50s/it, Subset=Valid, Loss=1.17, Accuracy=0.618, F1-Macro=0.611]\n",
      "Training resmlp_12_224\n",
      "Loading pretrained weights from url (https://dl.fbaipublicfiles.com/deit/resmlp_12_no_dist.pth)\n",
      "Downloading: \"https://dl.fbaipublicfiles.com/deit/resmlp_12_no_dist.pth\" to /root/.cache/torch/hub/checkpoints/resmlp_12_no_dist.pth\n",
      "100%|██████████| 200/200 [16:52<00:00,  5.06s/it, Subset=Valid, Loss=1.24, Accuracy=0.625, F1-Macro=0.626]\n",
      "Training densenet169\n",
      "Loading pretrained weights from url (https://download.pytorch.org/models/densenet169-b2777c0a.pth)\n",
      "Downloading: \"https://download.pytorch.org/models/densenet169-b2777c0a.pth\" to /root/.cache/torch/hub/checkpoints/densenet169-b2777c0a.pth\n",
      "100%|██████████| 200/200 [24:32<00:00,  7.36s/it, Subset=Valid, Loss=1.07, Accuracy=0.649, F1-Macro=0.65] \n"
     ]
    }
   ],
   "source": [
    "backbones = [\"resnet26d\", \"convnext_nano\", \"resmlp_12_224\", \"densenet169\"]\n",
    "\n",
    "result = {}\n",
    "for backbone in backbones:\n",
    "    logging.info(f\"Training {backbone}\")\n",
    "    result[backbone] = helper.train(backbone)\n",
    "    result[backbone].to_csv(f\"logs/{backbone}.csv\", index=False)\n"
   ]
  }
 ],
 "metadata": {
  "kernelspec": {
   "display_name": "Python 3 (ipykernel)",
   "language": "python",
   "name": "python3"
  },
  "language_info": {
   "codemirror_mode": {
    "name": "ipython",
    "version": 3
   },
   "file_extension": ".py",
   "mimetype": "text/x-python",
   "name": "python",
   "nbconvert_exporter": "python",
   "pygments_lexer": "ipython3",
   "version": "3.8.10"
  },
  "vscode": {
   "interpreter": {
    "hash": "31f2aee4e71d21fbe5cf8b01ff0e069b9275f58929596ceb00d14d90e3e16cd6"
   }
  }
 },
 "nbformat": 4,
 "nbformat_minor": 5
}
