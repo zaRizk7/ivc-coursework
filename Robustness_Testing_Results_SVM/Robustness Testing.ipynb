{
 "cells": [
  {
   "cell_type": "code",
   "execution_count": 50,
   "id": "25615386",
   "metadata": {},
   "outputs": [],
   "source": [
    "import os\n",
    "import cv2 as cv\n",
    "import argparse\n",
    "from sklearn.svm import LinearSVC\n",
    "from skimage import feature\n",
    "import pandas as pd\n",
    "import os\n",
    "from skimage.transform import resize\n",
    "from skimage.io import imread\n",
    "import numpy as np\n",
    "import matplotlib.pyplot as plt\n",
    "from utils import read_img\n",
    "from sklearn.metrics import f1_score\n",
    "import joblib\n",
    "from scipy.spatial.distance import cdist\n",
    "from sklearn.preprocessing import StandardScaler\n",
    "import helper\n",
    "from sklearn.metrics import f1_score"
   ]
  },
  {
   "cell_type": "code",
   "execution_count": 2,
   "id": "67f2df2f",
   "metadata": {},
   "outputs": [
    {
     "name": "stdout",
     "output_type": "stream",
     "text": [
      "loading... category : black widow\n",
      "loaded category:black widow successfully\n",
      "loading... category : captain america\n",
      "loaded category:captain america successfully\n",
      "loading... category : doctor strange\n",
      "loaded category:doctor strange successfully\n",
      "loading... category : hulk\n",
      "loaded category:hulk successfully\n",
      "loading... category : ironman\n",
      "loaded category:ironman successfully\n",
      "loading... category : loki\n",
      "loaded category:loki successfully\n",
      "loading... category : spider-man\n",
      "loaded category:spider-man successfully\n",
      "loading... category : thanos\n",
      "loaded category:thanos successfully\n"
     ]
    }
   ],
   "source": [
    "train_image_paths = []\n",
    "train_labels = []\n",
    "# get all the image folder paths\n",
    "Categories=['black widow', 'captain america', 'doctor strange', 'hulk', 'ironman', 'loki', 'spider-man', 'thanos']\n",
    "datadir='dataset\\\\train' \n",
    "\n",
    "for i in Categories:\n",
    "    \n",
    "    print(f'loading... category : {i}')\n",
    "    path=os.path.join(datadir,i)\n",
    "    for img in os.listdir(path):\n",
    "        train_image_paths.append(os.path.join(path,img))\n",
    "        train_labels.append(Categories.index(i))\n",
    "    print(f'loaded category:{i} successfully')"
   ]
  },
  {
   "cell_type": "code",
   "execution_count": 3,
   "id": "4211d1ca",
   "metadata": {},
   "outputs": [
    {
     "name": "stdout",
     "output_type": "stream",
     "text": [
      "loading... category : black widow\n",
      "loaded category:black widow successfully\n",
      "loading... category : captain america\n",
      "loaded category:captain america successfully\n",
      "loading... category : doctor strange\n",
      "loaded category:doctor strange successfully\n",
      "loading... category : hulk\n",
      "loaded category:hulk successfully\n",
      "loading... category : ironman\n",
      "loaded category:ironman successfully\n",
      "loading... category : loki\n",
      "loaded category:loki successfully\n",
      "loading... category : spider-man\n",
      "loaded category:spider-man successfully\n",
      "loading... category : thanos\n",
      "loaded category:thanos successfully\n"
     ]
    }
   ],
   "source": [
    "test_image_paths = []\n",
    "test_labels = []\n",
    "# get all the image folder paths\n",
    "Categories=['black widow', 'captain america', 'doctor strange', 'hulk', 'ironman', 'loki', 'spider-man', 'thanos']\n",
    "datadir='dataset\\\\test' \n",
    "\n",
    "for i in Categories:\n",
    "    \n",
    "    print(f'loading... category : {i}')\n",
    "    path=os.path.join(datadir,i)\n",
    "    for img in os.listdir(path):\n",
    "        test_image_paths.append(os.path.join(path,img))\n",
    "        test_labels.append(Categories.index(i))\n",
    "    print(f'loaded category:{i} successfully')"
   ]
  },
  {
   "cell_type": "code",
   "execution_count": 35,
   "id": "d10e9d2b",
   "metadata": {},
   "outputs": [],
   "source": [
    "scaler = StandardScaler()\n",
    "def bag_of_words_SIFT(image_paths, codebook):\n",
    "    orb = cv.SIFT_create(nfeatures=300)\n",
    "    codebook_size = codebook.shape[0]\n",
    "    image_features = []\n",
    "    for image_path in image_paths:\n",
    "        img = read_img(image_path, mono=True)\n",
    "        keypoints, descriptors = orb.detectAndCompute(img, None)\n",
    "        bow = np.zeros(codebook_size)\n",
    "        if descriptors is not None:\n",
    "            distances = cdist(descriptors, codebook)\n",
    "            for d in distances:\n",
    "                bow[np.argmin(d)] += 1\n",
    "        image_features.append(bow.reshape(1, codebook_size))\n",
    "    image_features = np.concatenate(image_features)\n",
    "    return image_features"
   ]
  },
  {
   "cell_type": "code",
   "execution_count": 36,
   "id": "f30346b1",
   "metadata": {},
   "outputs": [],
   "source": [
    "codebook_SIFT = joblib.load('codebook_SIFT.joblib')\n",
    "svm_SIFT = joblib.load('svm_bow_SIFT.joblib')"
   ]
  },
  {
   "cell_type": "code",
   "execution_count": 37,
   "id": "384eab2d",
   "metadata": {},
   "outputs": [
    {
     "name": "stdout",
     "output_type": "stream",
     "text": [
      "Generating BOW features for training set...\n",
      "Train images: (2325, 150)\n"
     ]
    }
   ],
   "source": [
    "print('Generating BOW features for training set...')\n",
    "train_images_SIFT = bag_of_words_SIFT(train_image_paths, codebook_SIFT)\n",
    "train_images_scaled_SIFT = scaler.fit_transform(train_images_SIFT)\n",
    "print('Train images:', train_images_SIFT.shape)"
   ]
  },
  {
   "cell_type": "markdown",
   "id": "0477477b",
   "metadata": {},
   "source": [
    "# Gaussian pixel noise"
   ]
  },
  {
   "cell_type": "code",
   "execution_count": 63,
   "id": "20c20dd9",
   "metadata": {},
   "outputs": [],
   "source": [
    "def bag_of_words_SIFT_GPN(image_paths, codebook, i):\n",
    "    sift = cv.SIFT_create(nfeatures=300)\n",
    "    codebook_size = codebook.shape[0]\n",
    "    image_features = []\n",
    "    for image_path in image_paths:\n",
    "        img = read_img(image_path, mono=True)\n",
    "        img = helper.gaussian_pixel_noise(img, i)\n",
    "        img = cv.normalize(img, None, 0, 255, cv.NORM_MINMAX).astype('uint8')\n",
    "        keypoints, descriptors = sift.detectAndCompute(img, None)\n",
    "        bow = np.zeros(codebook_size)\n",
    "        if descriptors is not None:\n",
    "            distances = cdist(descriptors, codebook)\n",
    "            for d in distances:\n",
    "                bow[np.argmin(d)] += 1\n",
    "        image_features.append(bow.reshape(1, codebook_size))\n",
    "    image_features = np.concatenate(image_features)\n",
    "    return image_features"
   ]
  },
  {
   "cell_type": "code",
   "execution_count": 68,
   "id": "4891774f",
   "metadata": {},
   "outputs": [],
   "source": [
    "l = [0, 2, 4, 6, 8, 10, 12, 14, 16, 18]"
   ]
  },
  {
   "cell_type": "code",
   "execution_count": 69,
   "id": "1196ae9e",
   "metadata": {},
   "outputs": [
    {
     "name": "stdout",
     "output_type": "stream",
     "text": [
      "0\n",
      "2\n",
      "4\n",
      "6\n",
      "8\n",
      "10\n",
      "12\n",
      "14\n",
      "16\n",
      "18\n"
     ]
    }
   ],
   "source": [
    "res = []\n",
    "for i in range(len(l)):\n",
    "    print(l[i])\n",
    "    test_images = bag_of_words_SIFT_GPN(test_image_paths, codebook_SIFT, l[i])\n",
    "    test_images_scaled = scaler.transform(test_images)\n",
    "    test_predictions = svm_SIFT.predict(test_images_scaled)\n",
    "    res.append(f1_score(test_labels, test_predictions, average='macro'))"
   ]
  },
  {
   "cell_type": "code",
   "execution_count": 71,
   "id": "3c268104",
   "metadata": {},
   "outputs": [
    {
     "data": {
      "text/plain": [
       "[0.27360969704337024,\n",
       " 0.242403996988601,\n",
       " 0.24732311116041233,\n",
       " 0.23897523015191685,\n",
       " 0.2515416060985023,\n",
       " 0.23257588854623354,\n",
       " 0.24964844879624748,\n",
       " 0.2618438319684258,\n",
       " 0.24748328684255932,\n",
       " 0.24818010054385445]"
      ]
     },
     "execution_count": 71,
     "metadata": {},
     "output_type": "execute_result"
    }
   ],
   "source": [
    "res"
   ]
  },
  {
   "cell_type": "code",
   "execution_count": 72,
   "id": "a0ee0bb9",
   "metadata": {},
   "outputs": [
    {
     "data": {
      "text/html": [
       "<div>\n",
       "<style scoped>\n",
       "    .dataframe tbody tr th:only-of-type {\n",
       "        vertical-align: middle;\n",
       "    }\n",
       "\n",
       "    .dataframe tbody tr th {\n",
       "        vertical-align: top;\n",
       "    }\n",
       "\n",
       "    .dataframe thead th {\n",
       "        text-align: right;\n",
       "    }\n",
       "</style>\n",
       "<table border=\"1\" class=\"dataframe\">\n",
       "  <thead>\n",
       "    <tr style=\"text-align: right;\">\n",
       "      <th></th>\n",
       "      <th>f-1</th>\n",
       "    </tr>\n",
       "  </thead>\n",
       "  <tbody>\n",
       "    <tr>\n",
       "      <th>0</th>\n",
       "      <td>0.273610</td>\n",
       "    </tr>\n",
       "    <tr>\n",
       "      <th>2</th>\n",
       "      <td>0.242404</td>\n",
       "    </tr>\n",
       "    <tr>\n",
       "      <th>4</th>\n",
       "      <td>0.247323</td>\n",
       "    </tr>\n",
       "    <tr>\n",
       "      <th>6</th>\n",
       "      <td>0.238975</td>\n",
       "    </tr>\n",
       "    <tr>\n",
       "      <th>8</th>\n",
       "      <td>0.251542</td>\n",
       "    </tr>\n",
       "    <tr>\n",
       "      <th>10</th>\n",
       "      <td>0.232576</td>\n",
       "    </tr>\n",
       "    <tr>\n",
       "      <th>12</th>\n",
       "      <td>0.249648</td>\n",
       "    </tr>\n",
       "    <tr>\n",
       "      <th>14</th>\n",
       "      <td>0.261844</td>\n",
       "    </tr>\n",
       "    <tr>\n",
       "      <th>16</th>\n",
       "      <td>0.247483</td>\n",
       "    </tr>\n",
       "    <tr>\n",
       "      <th>18</th>\n",
       "      <td>0.248180</td>\n",
       "    </tr>\n",
       "  </tbody>\n",
       "</table>\n",
       "</div>"
      ],
      "text/plain": [
       "         f-1\n",
       "0   0.273610\n",
       "2   0.242404\n",
       "4   0.247323\n",
       "6   0.238975\n",
       "8   0.251542\n",
       "10  0.232576\n",
       "12  0.249648\n",
       "14  0.261844\n",
       "16  0.247483\n",
       "18  0.248180"
      ]
     },
     "execution_count": 72,
     "metadata": {},
     "output_type": "execute_result"
    }
   ],
   "source": [
    "d = {'f-1': res}\n",
    "df = pd.DataFrame(data=d, index = l)\n",
    "df"
   ]
  },
  {
   "cell_type": "code",
   "execution_count": 73,
   "id": "cc7a8b73",
   "metadata": {},
   "outputs": [],
   "source": [
    "df.to_csv(\"Gaussian pixel noise.csv\")"
   ]
  },
  {
   "cell_type": "markdown",
   "id": "504ea1ed",
   "metadata": {},
   "source": [
    "# Gaussian blurring"
   ]
  },
  {
   "cell_type": "code",
   "execution_count": 75,
   "id": "21db4601",
   "metadata": {},
   "outputs": [],
   "source": [
    "def bag_of_words_SIFT_GB(image_paths, codebook, i):\n",
    "    sift = cv.SIFT_create(nfeatures=300)\n",
    "    codebook_size = codebook.shape[0]\n",
    "    image_features = []\n",
    "    for image_path in image_paths:\n",
    "        img = read_img(image_path, mono=True)\n",
    "        img = helper.gaussian_blur(img, i)\n",
    "        img = cv.normalize(img, None, 0, 255, cv.NORM_MINMAX).astype('uint8')\n",
    "        keypoints, descriptors = sift.detectAndCompute(img, None)\n",
    "        bow = np.zeros(codebook_size)\n",
    "        if descriptors is not None:\n",
    "            distances = cdist(descriptors, codebook)\n",
    "            for d in distances:\n",
    "                bow[np.argmin(d)] += 1\n",
    "        image_features.append(bow.reshape(1, codebook_size))\n",
    "    image_features = np.concatenate(image_features)\n",
    "    return image_features"
   ]
  },
  {
   "cell_type": "code",
   "execution_count": 76,
   "id": "014d0c50",
   "metadata": {},
   "outputs": [
    {
     "name": "stdout",
     "output_type": "stream",
     "text": [
      "0\n",
      "1\n",
      "2\n",
      "3\n",
      "4\n",
      "5\n",
      "6\n",
      "7\n",
      "8\n",
      "9\n"
     ]
    }
   ],
   "source": [
    "res = []\n",
    "for i in range(10):\n",
    "    print(i)\n",
    "    test_images = bag_of_words_SIFT_GB(test_image_paths, codebook_SIFT, i)\n",
    "    test_images_scaled = scaler.transform(test_images)\n",
    "    test_predictions = svm_SIFT.predict(test_images_scaled)\n",
    "    res.append(f1_score(test_labels, test_predictions, average='macro'))"
   ]
  },
  {
   "cell_type": "code",
   "execution_count": 77,
   "id": "7e9e760f",
   "metadata": {},
   "outputs": [
    {
     "data": {
      "text/html": [
       "<div>\n",
       "<style scoped>\n",
       "    .dataframe tbody tr th:only-of-type {\n",
       "        vertical-align: middle;\n",
       "    }\n",
       "\n",
       "    .dataframe tbody tr th {\n",
       "        vertical-align: top;\n",
       "    }\n",
       "\n",
       "    .dataframe thead th {\n",
       "        text-align: right;\n",
       "    }\n",
       "</style>\n",
       "<table border=\"1\" class=\"dataframe\">\n",
       "  <thead>\n",
       "    <tr style=\"text-align: right;\">\n",
       "      <th></th>\n",
       "      <th>f-1</th>\n",
       "    </tr>\n",
       "  </thead>\n",
       "  <tbody>\n",
       "    <tr>\n",
       "      <th>0</th>\n",
       "      <td>0.273610</td>\n",
       "    </tr>\n",
       "    <tr>\n",
       "      <th>1</th>\n",
       "      <td>0.243160</td>\n",
       "    </tr>\n",
       "    <tr>\n",
       "      <th>2</th>\n",
       "      <td>0.232824</td>\n",
       "    </tr>\n",
       "    <tr>\n",
       "      <th>3</th>\n",
       "      <td>0.216480</td>\n",
       "    </tr>\n",
       "    <tr>\n",
       "      <th>4</th>\n",
       "      <td>0.209853</td>\n",
       "    </tr>\n",
       "    <tr>\n",
       "      <th>5</th>\n",
       "      <td>0.214553</td>\n",
       "    </tr>\n",
       "    <tr>\n",
       "      <th>6</th>\n",
       "      <td>0.195816</td>\n",
       "    </tr>\n",
       "    <tr>\n",
       "      <th>7</th>\n",
       "      <td>0.170992</td>\n",
       "    </tr>\n",
       "    <tr>\n",
       "      <th>8</th>\n",
       "      <td>0.189825</td>\n",
       "    </tr>\n",
       "    <tr>\n",
       "      <th>9</th>\n",
       "      <td>0.158790</td>\n",
       "    </tr>\n",
       "  </tbody>\n",
       "</table>\n",
       "</div>"
      ],
      "text/plain": [
       "        f-1\n",
       "0  0.273610\n",
       "1  0.243160\n",
       "2  0.232824\n",
       "3  0.216480\n",
       "4  0.209853\n",
       "5  0.214553\n",
       "6  0.195816\n",
       "7  0.170992\n",
       "8  0.189825\n",
       "9  0.158790"
      ]
     },
     "execution_count": 77,
     "metadata": {},
     "output_type": "execute_result"
    }
   ],
   "source": [
    "d = {'f-1': res}\n",
    "df = pd.DataFrame(data=d)\n",
    "df"
   ]
  },
  {
   "cell_type": "code",
   "execution_count": 79,
   "id": "9a8dceb1",
   "metadata": {},
   "outputs": [],
   "source": [
    "df.to_csv(\"Gaussian blurring.csv\")"
   ]
  },
  {
   "cell_type": "markdown",
   "id": "5f6480b6",
   "metadata": {},
   "source": [
    "# Image Contrast Increase "
   ]
  },
  {
   "cell_type": "code",
   "execution_count": 80,
   "id": "d5c22fcd",
   "metadata": {},
   "outputs": [],
   "source": [
    "def bag_of_words_SIFT_ICI(image_paths, codebook, i):\n",
    "    sift = cv.SIFT_create(nfeatures=300)\n",
    "    codebook_size = codebook.shape[0]\n",
    "    image_features = []\n",
    "    for image_path in image_paths:\n",
    "        img = read_img(image_path, mono=True)\n",
    "        img = helper.scale_contrast(img, i)\n",
    "        img = cv.normalize(img, None, 0, 255, cv.NORM_MINMAX).astype('uint8')\n",
    "        keypoints, descriptors = sift.detectAndCompute(img, None)\n",
    "        bow = np.zeros(codebook_size)\n",
    "        if descriptors is not None:\n",
    "            distances = cdist(descriptors, codebook)\n",
    "            for d in distances:\n",
    "                bow[np.argmin(d)] += 1\n",
    "        image_features.append(bow.reshape(1, codebook_size))\n",
    "    image_features = np.concatenate(image_features)\n",
    "    return image_features"
   ]
  },
  {
   "cell_type": "code",
   "execution_count": 81,
   "id": "26787162",
   "metadata": {},
   "outputs": [],
   "source": [
    "l = [1.0, 1.01, 1.02, 1.03, 1.04, 1.05, 1.1, 1.15, 1.20, 1.25]"
   ]
  },
  {
   "cell_type": "code",
   "execution_count": 82,
   "id": "3c016e46",
   "metadata": {},
   "outputs": [
    {
     "name": "stdout",
     "output_type": "stream",
     "text": [
      "1.0\n",
      "1.01\n",
      "1.02\n",
      "1.03\n",
      "1.04\n",
      "1.05\n",
      "1.1\n",
      "1.15\n",
      "1.2\n",
      "1.25\n"
     ]
    }
   ],
   "source": [
    "res = []\n",
    "for i in range(len(l)):\n",
    "    print(l[i])\n",
    "    test_images = bag_of_words_SIFT_ICI(test_image_paths, codebook_SIFT, l[i])\n",
    "    test_images_scaled = scaler.transform(test_images)\n",
    "    test_predictions = svm_SIFT.predict(test_images_scaled)\n",
    "    res.append(f1_score(test_labels, test_predictions, average='macro'))"
   ]
  },
  {
   "cell_type": "code",
   "execution_count": 83,
   "id": "39e0f688",
   "metadata": {},
   "outputs": [
    {
     "data": {
      "text/html": [
       "<div>\n",
       "<style scoped>\n",
       "    .dataframe tbody tr th:only-of-type {\n",
       "        vertical-align: middle;\n",
       "    }\n",
       "\n",
       "    .dataframe tbody tr th {\n",
       "        vertical-align: top;\n",
       "    }\n",
       "\n",
       "    .dataframe thead th {\n",
       "        text-align: right;\n",
       "    }\n",
       "</style>\n",
       "<table border=\"1\" class=\"dataframe\">\n",
       "  <thead>\n",
       "    <tr style=\"text-align: right;\">\n",
       "      <th></th>\n",
       "      <th>f-1</th>\n",
       "    </tr>\n",
       "  </thead>\n",
       "  <tbody>\n",
       "    <tr>\n",
       "      <th>1.00</th>\n",
       "      <td>0.273610</td>\n",
       "    </tr>\n",
       "    <tr>\n",
       "      <th>1.01</th>\n",
       "      <td>0.273747</td>\n",
       "    </tr>\n",
       "    <tr>\n",
       "      <th>1.02</th>\n",
       "      <td>0.252256</td>\n",
       "    </tr>\n",
       "    <tr>\n",
       "      <th>1.03</th>\n",
       "      <td>0.257207</td>\n",
       "    </tr>\n",
       "    <tr>\n",
       "      <th>1.04</th>\n",
       "      <td>0.264634</td>\n",
       "    </tr>\n",
       "    <tr>\n",
       "      <th>1.05</th>\n",
       "      <td>0.250637</td>\n",
       "    </tr>\n",
       "    <tr>\n",
       "      <th>1.10</th>\n",
       "      <td>0.262991</td>\n",
       "    </tr>\n",
       "    <tr>\n",
       "      <th>1.15</th>\n",
       "      <td>0.265998</td>\n",
       "    </tr>\n",
       "    <tr>\n",
       "      <th>1.20</th>\n",
       "      <td>0.254205</td>\n",
       "    </tr>\n",
       "    <tr>\n",
       "      <th>1.25</th>\n",
       "      <td>0.252982</td>\n",
       "    </tr>\n",
       "  </tbody>\n",
       "</table>\n",
       "</div>"
      ],
      "text/plain": [
       "           f-1\n",
       "1.00  0.273610\n",
       "1.01  0.273747\n",
       "1.02  0.252256\n",
       "1.03  0.257207\n",
       "1.04  0.264634\n",
       "1.05  0.250637\n",
       "1.10  0.262991\n",
       "1.15  0.265998\n",
       "1.20  0.254205\n",
       "1.25  0.252982"
      ]
     },
     "execution_count": 83,
     "metadata": {},
     "output_type": "execute_result"
    }
   ],
   "source": [
    "d = {'f-1': res}\n",
    "df = pd.DataFrame(data=d, index = l)\n",
    "df"
   ]
  },
  {
   "cell_type": "code",
   "execution_count": 84,
   "id": "14139d66",
   "metadata": {},
   "outputs": [],
   "source": [
    "df.to_csv(\"Image Contrast Increase.csv\")"
   ]
  },
  {
   "cell_type": "markdown",
   "id": "13572dc0",
   "metadata": {},
   "source": [
    "# Image Contrast Decrease"
   ]
  },
  {
   "cell_type": "code",
   "execution_count": 87,
   "id": "c22e3ba3",
   "metadata": {},
   "outputs": [],
   "source": [
    "l = [ 1.0, 0.95, 0.90, 0.85, 0.80, 0.60, 0.40, 0.30, 0.20, 0.10]"
   ]
  },
  {
   "cell_type": "code",
   "execution_count": 88,
   "id": "e8418e12",
   "metadata": {},
   "outputs": [
    {
     "name": "stdout",
     "output_type": "stream",
     "text": [
      "1.0\n",
      "0.95\n",
      "0.9\n",
      "0.85\n",
      "0.8\n",
      "0.6\n",
      "0.4\n",
      "0.3\n",
      "0.2\n",
      "0.1\n"
     ]
    }
   ],
   "source": [
    "res = []\n",
    "for i in range(len(l)):\n",
    "    print(l[i])\n",
    "    test_images = bag_of_words_SIFT_ICI(test_image_paths, codebook_SIFT, l[i])\n",
    "    test_images_scaled = scaler.transform(test_images)\n",
    "    test_predictions = svm_SIFT.predict(test_images_scaled)\n",
    "    res.append(f1_score(test_labels, test_predictions, average='macro'))"
   ]
  },
  {
   "cell_type": "code",
   "execution_count": 89,
   "id": "f398ac69",
   "metadata": {},
   "outputs": [
    {
     "data": {
      "text/html": [
       "<div>\n",
       "<style scoped>\n",
       "    .dataframe tbody tr th:only-of-type {\n",
       "        vertical-align: middle;\n",
       "    }\n",
       "\n",
       "    .dataframe tbody tr th {\n",
       "        vertical-align: top;\n",
       "    }\n",
       "\n",
       "    .dataframe thead th {\n",
       "        text-align: right;\n",
       "    }\n",
       "</style>\n",
       "<table border=\"1\" class=\"dataframe\">\n",
       "  <thead>\n",
       "    <tr style=\"text-align: right;\">\n",
       "      <th></th>\n",
       "      <th>f-1</th>\n",
       "    </tr>\n",
       "  </thead>\n",
       "  <tbody>\n",
       "    <tr>\n",
       "      <th>1.00</th>\n",
       "      <td>0.273610</td>\n",
       "    </tr>\n",
       "    <tr>\n",
       "      <th>0.95</th>\n",
       "      <td>0.257378</td>\n",
       "    </tr>\n",
       "    <tr>\n",
       "      <th>0.90</th>\n",
       "      <td>0.258881</td>\n",
       "    </tr>\n",
       "    <tr>\n",
       "      <th>0.85</th>\n",
       "      <td>0.265697</td>\n",
       "    </tr>\n",
       "    <tr>\n",
       "      <th>0.80</th>\n",
       "      <td>0.277105</td>\n",
       "    </tr>\n",
       "    <tr>\n",
       "      <th>0.60</th>\n",
       "      <td>0.257211</td>\n",
       "    </tr>\n",
       "    <tr>\n",
       "      <th>0.40</th>\n",
       "      <td>0.252932</td>\n",
       "    </tr>\n",
       "    <tr>\n",
       "      <th>0.30</th>\n",
       "      <td>0.246451</td>\n",
       "    </tr>\n",
       "    <tr>\n",
       "      <th>0.20</th>\n",
       "      <td>0.244595</td>\n",
       "    </tr>\n",
       "    <tr>\n",
       "      <th>0.10</th>\n",
       "      <td>0.253306</td>\n",
       "    </tr>\n",
       "  </tbody>\n",
       "</table>\n",
       "</div>"
      ],
      "text/plain": [
       "           f-1\n",
       "1.00  0.273610\n",
       "0.95  0.257378\n",
       "0.90  0.258881\n",
       "0.85  0.265697\n",
       "0.80  0.277105\n",
       "0.60  0.257211\n",
       "0.40  0.252932\n",
       "0.30  0.246451\n",
       "0.20  0.244595\n",
       "0.10  0.253306"
      ]
     },
     "execution_count": 89,
     "metadata": {},
     "output_type": "execute_result"
    }
   ],
   "source": [
    "d = {'f-1': res}\n",
    "df = pd.DataFrame(data=d, index = l)\n",
    "df"
   ]
  },
  {
   "cell_type": "code",
   "execution_count": 90,
   "id": "862c1a48",
   "metadata": {},
   "outputs": [],
   "source": [
    "df.to_csv(\"Image Contrast Decrease.csv\")"
   ]
  },
  {
   "cell_type": "markdown",
   "id": "e9febeaf",
   "metadata": {},
   "source": [
    "# Image Brightness Increase"
   ]
  },
  {
   "cell_type": "code",
   "execution_count": 91,
   "id": "c41807e2",
   "metadata": {},
   "outputs": [],
   "source": [
    "def bag_of_words_SIFT_IB(image_paths, codebook, i):\n",
    "    sift = cv.SIFT_create(nfeatures=300)\n",
    "    codebook_size = codebook.shape[0]\n",
    "    image_features = []\n",
    "    for image_path in image_paths:\n",
    "        img = read_img(image_path, mono=True)\n",
    "        img = helper.change_brightness(img, i)\n",
    "        img = cv.normalize(img, None, 0, 255, cv.NORM_MINMAX).astype('uint8')\n",
    "        keypoints, descriptors = sift.detectAndCompute(img, None)\n",
    "        bow = np.zeros(codebook_size)\n",
    "        if descriptors is not None:\n",
    "            distances = cdist(descriptors, codebook)\n",
    "            for d in distances:\n",
    "                bow[np.argmin(d)] += 1\n",
    "        image_features.append(bow.reshape(1, codebook_size))\n",
    "    image_features = np.concatenate(image_features)\n",
    "    return image_features"
   ]
  },
  {
   "cell_type": "code",
   "execution_count": 92,
   "id": "630a3641",
   "metadata": {},
   "outputs": [],
   "source": [
    "l = [0, 5, 10, 15, 20, 25, 30, 35, 40, 45]"
   ]
  },
  {
   "cell_type": "code",
   "execution_count": 93,
   "id": "d932e545",
   "metadata": {},
   "outputs": [
    {
     "name": "stdout",
     "output_type": "stream",
     "text": [
      "0\n",
      "5\n",
      "10\n",
      "15\n",
      "20\n",
      "25\n",
      "30\n",
      "35\n",
      "40\n",
      "45\n"
     ]
    }
   ],
   "source": [
    "res = []\n",
    "for i in range(len(l)):\n",
    "    print(l[i])\n",
    "    test_images = bag_of_words_SIFT_IB(test_image_paths, codebook_SIFT, l[i])\n",
    "    test_images_scaled = scaler.transform(test_images)\n",
    "    test_predictions = svm_SIFT.predict(test_images_scaled)\n",
    "    res.append(f1_score(test_labels, test_predictions, average='macro'))"
   ]
  },
  {
   "cell_type": "code",
   "execution_count": 94,
   "id": "f406a762",
   "metadata": {},
   "outputs": [
    {
     "data": {
      "text/html": [
       "<div>\n",
       "<style scoped>\n",
       "    .dataframe tbody tr th:only-of-type {\n",
       "        vertical-align: middle;\n",
       "    }\n",
       "\n",
       "    .dataframe tbody tr th {\n",
       "        vertical-align: top;\n",
       "    }\n",
       "\n",
       "    .dataframe thead th {\n",
       "        text-align: right;\n",
       "    }\n",
       "</style>\n",
       "<table border=\"1\" class=\"dataframe\">\n",
       "  <thead>\n",
       "    <tr style=\"text-align: right;\">\n",
       "      <th></th>\n",
       "      <th>f-1</th>\n",
       "    </tr>\n",
       "  </thead>\n",
       "  <tbody>\n",
       "    <tr>\n",
       "      <th>0</th>\n",
       "      <td>0.273610</td>\n",
       "    </tr>\n",
       "    <tr>\n",
       "      <th>5</th>\n",
       "      <td>0.254829</td>\n",
       "    </tr>\n",
       "    <tr>\n",
       "      <th>10</th>\n",
       "      <td>0.257241</td>\n",
       "    </tr>\n",
       "    <tr>\n",
       "      <th>15</th>\n",
       "      <td>0.250382</td>\n",
       "    </tr>\n",
       "    <tr>\n",
       "      <th>20</th>\n",
       "      <td>0.223359</td>\n",
       "    </tr>\n",
       "    <tr>\n",
       "      <th>25</th>\n",
       "      <td>0.220670</td>\n",
       "    </tr>\n",
       "    <tr>\n",
       "      <th>30</th>\n",
       "      <td>0.217730</td>\n",
       "    </tr>\n",
       "    <tr>\n",
       "      <th>35</th>\n",
       "      <td>0.215704</td>\n",
       "    </tr>\n",
       "    <tr>\n",
       "      <th>40</th>\n",
       "      <td>0.205175</td>\n",
       "    </tr>\n",
       "    <tr>\n",
       "      <th>45</th>\n",
       "      <td>0.189511</td>\n",
       "    </tr>\n",
       "  </tbody>\n",
       "</table>\n",
       "</div>"
      ],
      "text/plain": [
       "         f-1\n",
       "0   0.273610\n",
       "5   0.254829\n",
       "10  0.257241\n",
       "15  0.250382\n",
       "20  0.223359\n",
       "25  0.220670\n",
       "30  0.217730\n",
       "35  0.215704\n",
       "40  0.205175\n",
       "45  0.189511"
      ]
     },
     "execution_count": 94,
     "metadata": {},
     "output_type": "execute_result"
    }
   ],
   "source": [
    "d = {'f-1': res}\n",
    "df = pd.DataFrame(data=d, index = l)\n",
    "df"
   ]
  },
  {
   "cell_type": "code",
   "execution_count": 95,
   "id": "c07c5e57",
   "metadata": {},
   "outputs": [],
   "source": [
    "df.to_csv(\"Image Brightness Increase.csv\")"
   ]
  },
  {
   "cell_type": "markdown",
   "id": "c4fcadd7",
   "metadata": {},
   "source": [
    "# Image Brightness Decrease"
   ]
  },
  {
   "cell_type": "code",
   "execution_count": 96,
   "id": "484c5f24",
   "metadata": {},
   "outputs": [],
   "source": [
    "l = [0, -5, -10, -15, -20, -25, -30, -35, -40, -45]"
   ]
  },
  {
   "cell_type": "code",
   "execution_count": 97,
   "id": "4fa2ae7f",
   "metadata": {},
   "outputs": [
    {
     "name": "stdout",
     "output_type": "stream",
     "text": [
      "0\n",
      "-5\n",
      "-10\n",
      "-15\n",
      "-20\n",
      "-25\n",
      "-30\n",
      "-35\n",
      "-40\n",
      "-45\n"
     ]
    }
   ],
   "source": [
    "res = []\n",
    "for i in range(len(l)):\n",
    "    print(l[i])\n",
    "    test_images = bag_of_words_SIFT_IB(test_image_paths, codebook_SIFT, l[i])\n",
    "    test_images_scaled = scaler.transform(test_images)\n",
    "    test_predictions = svm_SIFT.predict(test_images_scaled)\n",
    "    res.append(f1_score(test_labels, test_predictions, average='macro'))"
   ]
  },
  {
   "cell_type": "code",
   "execution_count": 98,
   "id": "d3c1d006",
   "metadata": {},
   "outputs": [
    {
     "data": {
      "text/html": [
       "<div>\n",
       "<style scoped>\n",
       "    .dataframe tbody tr th:only-of-type {\n",
       "        vertical-align: middle;\n",
       "    }\n",
       "\n",
       "    .dataframe tbody tr th {\n",
       "        vertical-align: top;\n",
       "    }\n",
       "\n",
       "    .dataframe thead th {\n",
       "        text-align: right;\n",
       "    }\n",
       "</style>\n",
       "<table border=\"1\" class=\"dataframe\">\n",
       "  <thead>\n",
       "    <tr style=\"text-align: right;\">\n",
       "      <th></th>\n",
       "      <th>f-1</th>\n",
       "    </tr>\n",
       "  </thead>\n",
       "  <tbody>\n",
       "    <tr>\n",
       "      <th>0</th>\n",
       "      <td>0.273610</td>\n",
       "    </tr>\n",
       "    <tr>\n",
       "      <th>-5</th>\n",
       "      <td>0.262279</td>\n",
       "    </tr>\n",
       "    <tr>\n",
       "      <th>-10</th>\n",
       "      <td>0.269541</td>\n",
       "    </tr>\n",
       "    <tr>\n",
       "      <th>-15</th>\n",
       "      <td>0.275715</td>\n",
       "    </tr>\n",
       "    <tr>\n",
       "      <th>-20</th>\n",
       "      <td>0.274209</td>\n",
       "    </tr>\n",
       "    <tr>\n",
       "      <th>-25</th>\n",
       "      <td>0.258727</td>\n",
       "    </tr>\n",
       "    <tr>\n",
       "      <th>-30</th>\n",
       "      <td>0.249542</td>\n",
       "    </tr>\n",
       "    <tr>\n",
       "      <th>-35</th>\n",
       "      <td>0.256700</td>\n",
       "    </tr>\n",
       "    <tr>\n",
       "      <th>-40</th>\n",
       "      <td>0.235373</td>\n",
       "    </tr>\n",
       "    <tr>\n",
       "      <th>-45</th>\n",
       "      <td>0.242433</td>\n",
       "    </tr>\n",
       "  </tbody>\n",
       "</table>\n",
       "</div>"
      ],
      "text/plain": [
       "          f-1\n",
       " 0   0.273610\n",
       "-5   0.262279\n",
       "-10  0.269541\n",
       "-15  0.275715\n",
       "-20  0.274209\n",
       "-25  0.258727\n",
       "-30  0.249542\n",
       "-35  0.256700\n",
       "-40  0.235373\n",
       "-45  0.242433"
      ]
     },
     "execution_count": 98,
     "metadata": {},
     "output_type": "execute_result"
    }
   ],
   "source": [
    "d = {'f-1': res}\n",
    "df = pd.DataFrame(data=d, index = l)\n",
    "df"
   ]
  },
  {
   "cell_type": "code",
   "execution_count": 99,
   "id": "3395c606",
   "metadata": {},
   "outputs": [],
   "source": [
    "df.to_csv(\"Image Brightness Decrease.csv\")"
   ]
  },
  {
   "cell_type": "markdown",
   "id": "c942667e",
   "metadata": {},
   "source": [
    "# Occlusion of the Image Increase"
   ]
  },
  {
   "cell_type": "code",
   "execution_count": 100,
   "id": "5e72e786",
   "metadata": {},
   "outputs": [],
   "source": [
    "def bag_of_words_SIFT_OII(image_paths, codebook, i):\n",
    "    sift = cv.SIFT_create(nfeatures=300)\n",
    "    codebook_size = codebook.shape[0]\n",
    "    image_features = []\n",
    "    for image_path in image_paths:\n",
    "        img = read_img(image_path, mono=True)\n",
    "        img = helper.occlusion(img, i)\n",
    "        img = cv.normalize(img, None, 0, 255, cv.NORM_MINMAX).astype('uint8')\n",
    "        keypoints, descriptors = sift.detectAndCompute(img, None)\n",
    "        bow = np.zeros(codebook_size)\n",
    "        if descriptors is not None:\n",
    "            distances = cdist(descriptors, codebook)\n",
    "            for d in distances:\n",
    "                bow[np.argmin(d)] += 1\n",
    "        image_features.append(bow.reshape(1, codebook_size))\n",
    "    image_features = np.concatenate(image_features)\n",
    "    return image_features"
   ]
  },
  {
   "cell_type": "code",
   "execution_count": 101,
   "id": "178ef490",
   "metadata": {},
   "outputs": [],
   "source": [
    "l = [0, 5, 10, 15, 20, 25, 30, 35, 40, 45]"
   ]
  },
  {
   "cell_type": "code",
   "execution_count": 103,
   "id": "64ff1969",
   "metadata": {},
   "outputs": [
    {
     "name": "stdout",
     "output_type": "stream",
     "text": [
      "0\n",
      "5\n",
      "10\n",
      "15\n",
      "20\n",
      "25\n",
      "30\n",
      "35\n",
      "40\n",
      "45\n"
     ]
    }
   ],
   "source": [
    "res = []\n",
    "for i in range(len(l)):\n",
    "    print(l[i])\n",
    "    test_images = bag_of_words_SIFT_OII(test_image_paths, codebook_SIFT, l[i])\n",
    "    test_images_scaled = scaler.transform(test_images)\n",
    "    test_predictions = svm_SIFT.predict(test_images_scaled)\n",
    "    res.append(f1_score(test_labels, test_predictions, average='macro'))"
   ]
  },
  {
   "cell_type": "code",
   "execution_count": 104,
   "id": "4559c8df",
   "metadata": {},
   "outputs": [
    {
     "data": {
      "text/html": [
       "<div>\n",
       "<style scoped>\n",
       "    .dataframe tbody tr th:only-of-type {\n",
       "        vertical-align: middle;\n",
       "    }\n",
       "\n",
       "    .dataframe tbody tr th {\n",
       "        vertical-align: top;\n",
       "    }\n",
       "\n",
       "    .dataframe thead th {\n",
       "        text-align: right;\n",
       "    }\n",
       "</style>\n",
       "<table border=\"1\" class=\"dataframe\">\n",
       "  <thead>\n",
       "    <tr style=\"text-align: right;\">\n",
       "      <th></th>\n",
       "      <th>f-1</th>\n",
       "    </tr>\n",
       "  </thead>\n",
       "  <tbody>\n",
       "    <tr>\n",
       "      <th>0</th>\n",
       "      <td>0.273610</td>\n",
       "    </tr>\n",
       "    <tr>\n",
       "      <th>5</th>\n",
       "      <td>0.258348</td>\n",
       "    </tr>\n",
       "    <tr>\n",
       "      <th>10</th>\n",
       "      <td>0.260781</td>\n",
       "    </tr>\n",
       "    <tr>\n",
       "      <th>15</th>\n",
       "      <td>0.241976</td>\n",
       "    </tr>\n",
       "    <tr>\n",
       "      <th>20</th>\n",
       "      <td>0.250839</td>\n",
       "    </tr>\n",
       "    <tr>\n",
       "      <th>25</th>\n",
       "      <td>0.263372</td>\n",
       "    </tr>\n",
       "    <tr>\n",
       "      <th>30</th>\n",
       "      <td>0.265080</td>\n",
       "    </tr>\n",
       "    <tr>\n",
       "      <th>35</th>\n",
       "      <td>0.249251</td>\n",
       "    </tr>\n",
       "    <tr>\n",
       "      <th>40</th>\n",
       "      <td>0.247592</td>\n",
       "    </tr>\n",
       "    <tr>\n",
       "      <th>45</th>\n",
       "      <td>0.258425</td>\n",
       "    </tr>\n",
       "  </tbody>\n",
       "</table>\n",
       "</div>"
      ],
      "text/plain": [
       "         f-1\n",
       "0   0.273610\n",
       "5   0.258348\n",
       "10  0.260781\n",
       "15  0.241976\n",
       "20  0.250839\n",
       "25  0.263372\n",
       "30  0.265080\n",
       "35  0.249251\n",
       "40  0.247592\n",
       "45  0.258425"
      ]
     },
     "execution_count": 104,
     "metadata": {},
     "output_type": "execute_result"
    }
   ],
   "source": [
    "d = {'f-1': res}\n",
    "df = pd.DataFrame(data=d, index = l)\n",
    "df"
   ]
  },
  {
   "cell_type": "code",
   "execution_count": 105,
   "id": "c52d0dfb",
   "metadata": {},
   "outputs": [],
   "source": [
    "df.to_csv(\"Occlusion of the Image Increase.csv\")"
   ]
  },
  {
   "cell_type": "markdown",
   "id": "c75927f2",
   "metadata": {},
   "source": [
    "# Salt and Pepper Noise "
   ]
  },
  {
   "cell_type": "code",
   "execution_count": 106,
   "id": "28501697",
   "metadata": {},
   "outputs": [],
   "source": [
    "def bag_of_words_SIFT_SPN(image_paths, codebook, i):\n",
    "    sift = cv.SIFT_create(nfeatures=300)\n",
    "    codebook_size = codebook.shape[0]\n",
    "    image_features = []\n",
    "    for image_path in image_paths:\n",
    "        img = read_img(image_path, mono=True)\n",
    "        img = helper.salt_and_pepper(img, i)\n",
    "        img = cv.normalize(img, None, 0, 255, cv.NORM_MINMAX).astype('uint8')\n",
    "        keypoints, descriptors = sift.detectAndCompute(img, None)\n",
    "        bow = np.zeros(codebook_size)\n",
    "        if descriptors is not None:\n",
    "            distances = cdist(descriptors, codebook)\n",
    "            for d in distances:\n",
    "                bow[np.argmin(d)] += 1\n",
    "        image_features.append(bow.reshape(1, codebook_size))\n",
    "    image_features = np.concatenate(image_features)\n",
    "    return image_features"
   ]
  },
  {
   "cell_type": "code",
   "execution_count": 107,
   "id": "a5db68e3",
   "metadata": {},
   "outputs": [],
   "source": [
    "l =[0.00, 0.02, 0.04, 0.06, 0.08, 0.10, 0.12, 0.14, 0.16, 0.18]"
   ]
  },
  {
   "cell_type": "code",
   "execution_count": 108,
   "id": "5c26bc1d",
   "metadata": {},
   "outputs": [
    {
     "name": "stdout",
     "output_type": "stream",
     "text": [
      "0.0\n",
      "0.02\n",
      "0.04\n",
      "0.06\n",
      "0.08\n",
      "0.1\n",
      "0.12\n",
      "0.14\n",
      "0.16\n",
      "0.18\n"
     ]
    }
   ],
   "source": [
    "res = []\n",
    "for i in range(len(l)):\n",
    "    print(l[i])\n",
    "    test_images = bag_of_words_SIFT_SPN(test_image_paths, codebook_SIFT, l[i])\n",
    "    test_images_scaled = scaler.transform(test_images)\n",
    "    test_predictions = svm_SIFT.predict(test_images_scaled)\n",
    "    res.append(f1_score(test_labels, test_predictions, average='macro'))"
   ]
  },
  {
   "cell_type": "code",
   "execution_count": 109,
   "id": "b220db2f",
   "metadata": {},
   "outputs": [
    {
     "data": {
      "text/html": [
       "<div>\n",
       "<style scoped>\n",
       "    .dataframe tbody tr th:only-of-type {\n",
       "        vertical-align: middle;\n",
       "    }\n",
       "\n",
       "    .dataframe tbody tr th {\n",
       "        vertical-align: top;\n",
       "    }\n",
       "\n",
       "    .dataframe thead th {\n",
       "        text-align: right;\n",
       "    }\n",
       "</style>\n",
       "<table border=\"1\" class=\"dataframe\">\n",
       "  <thead>\n",
       "    <tr style=\"text-align: right;\">\n",
       "      <th></th>\n",
       "      <th>f-1</th>\n",
       "    </tr>\n",
       "  </thead>\n",
       "  <tbody>\n",
       "    <tr>\n",
       "      <th>0.00</th>\n",
       "      <td>0.273610</td>\n",
       "    </tr>\n",
       "    <tr>\n",
       "      <th>0.02</th>\n",
       "      <td>0.263714</td>\n",
       "    </tr>\n",
       "    <tr>\n",
       "      <th>0.04</th>\n",
       "      <td>0.246110</td>\n",
       "    </tr>\n",
       "    <tr>\n",
       "      <th>0.06</th>\n",
       "      <td>0.205957</td>\n",
       "    </tr>\n",
       "    <tr>\n",
       "      <th>0.08</th>\n",
       "      <td>0.177894</td>\n",
       "    </tr>\n",
       "    <tr>\n",
       "      <th>0.10</th>\n",
       "      <td>0.171711</td>\n",
       "    </tr>\n",
       "    <tr>\n",
       "      <th>0.12</th>\n",
       "      <td>0.173848</td>\n",
       "    </tr>\n",
       "    <tr>\n",
       "      <th>0.14</th>\n",
       "      <td>0.166444</td>\n",
       "    </tr>\n",
       "    <tr>\n",
       "      <th>0.16</th>\n",
       "      <td>0.140485</td>\n",
       "    </tr>\n",
       "    <tr>\n",
       "      <th>0.18</th>\n",
       "      <td>0.133010</td>\n",
       "    </tr>\n",
       "  </tbody>\n",
       "</table>\n",
       "</div>"
      ],
      "text/plain": [
       "           f-1\n",
       "0.00  0.273610\n",
       "0.02  0.263714\n",
       "0.04  0.246110\n",
       "0.06  0.205957\n",
       "0.08  0.177894\n",
       "0.10  0.171711\n",
       "0.12  0.173848\n",
       "0.14  0.166444\n",
       "0.16  0.140485\n",
       "0.18  0.133010"
      ]
     },
     "execution_count": 109,
     "metadata": {},
     "output_type": "execute_result"
    }
   ],
   "source": [
    "d = {'f-1': res}\n",
    "df = pd.DataFrame(data=d, index = l)\n",
    "df"
   ]
  },
  {
   "cell_type": "code",
   "execution_count": 110,
   "id": "d3cc10a1",
   "metadata": {},
   "outputs": [],
   "source": [
    "df.to_csv(\"Salt and Pepper Noise.csv\")"
   ]
  },
  {
   "cell_type": "code",
   "execution_count": null,
   "id": "ad30f57a",
   "metadata": {},
   "outputs": [],
   "source": []
  },
  {
   "cell_type": "code",
   "execution_count": null,
   "id": "93132efc",
   "metadata": {},
   "outputs": [],
   "source": []
  },
  {
   "cell_type": "code",
   "execution_count": null,
   "id": "505da850",
   "metadata": {},
   "outputs": [],
   "source": []
  }
 ],
 "metadata": {
  "kernelspec": {
   "display_name": "Python 3",
   "language": "python",
   "name": "python3"
  },
  "language_info": {
   "codemirror_mode": {
    "name": "ipython",
    "version": 3
   },
   "file_extension": ".py",
   "mimetype": "text/x-python",
   "name": "python",
   "nbconvert_exporter": "python",
   "pygments_lexer": "ipython3",
   "version": "3.8.8"
  }
 },
 "nbformat": 4,
 "nbformat_minor": 5
}
