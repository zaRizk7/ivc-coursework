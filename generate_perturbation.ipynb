{
 "cells": [
  {
   "cell_type": "code",
   "execution_count": 1,
   "id": "eca502f5-46a4-435b-9f0a-6ccde3591c0c",
   "metadata": {},
   "outputs": [],
   "source": [
    "import os\n",
    "import shutil\n",
    "from functools import partial\n",
    "from glob import glob\n",
    "\n",
    "import cv2\n",
    "import helper\n",
    "import numpy as np\n",
    "from tqdm import tqdm\n",
    "\n",
    "np.random.seed(2022)"
   ]
  },
  {
   "cell_type": "code",
   "execution_count": 2,
   "id": "c165fe88-9d6f-4643-81b8-c183e1486ab5",
   "metadata": {},
   "outputs": [],
   "source": [
    "perturbation = {}\n",
    "perturbation[\"gaussian_pixel_noise\"] = [\n",
    "    (2 * i, partial(helper.gaussian_pixel_noise, std=2 * i)) for i in range(10)\n",
    "]\n",
    "perturbation[\"gaussian_blur\"] = [\n",
    "    (i, partial(helper.gaussian_blur, num_convolve=i)) for i in range(10)\n",
    "]\n",
    "perturbation[\"contrast_increase\"] = [\n",
    "    (i, partial(helper.scale_contrast, scale=i))\n",
    "    for i in [1.0, 1.01, 1.02, 1.03, 1.04, 1.05, 1.1, 1.15, 1.20, 1.25]\n",
    "]\n",
    "perturbation[\"contrast_decrease\"] = [\n",
    "    (i, partial(helper.scale_contrast, scale=i))\n",
    "    for i in [1.0, 0.95, 0.90, 0.85, 0.80, 0.60, 0.40, 0.30, 0.20, 0.10]\n",
    "]\n",
    "perturbation[\"brightness_increase\"] = [\n",
    "    (i, partial(helper.change_brightness, value=i)) for i in range(0, 50, 5)\n",
    "]\n",
    "perturbation[\"brightness_decrease\"] = [\n",
    "    (i, partial(helper.change_brightness, value=-i)) for i in range(0, 50, 5)\n",
    "]\n",
    "perturbation[\"occlusion\"] = [\n",
    "    (i, partial(helper.occlusion, edge_length=i)) for i in range(0, 50, 5)\n",
    "]\n",
    "perturbation[\"salt_and_pepper\"] = [\n",
    "    (i / 100, partial(helper.salt_and_pepper, rate=i / 100)) for i in range(0, 20, 2)\n",
    "]"
   ]
  },
  {
   "cell_type": "code",
   "execution_count": 3,
   "id": "d12f0437-fef4-4e1c-a6ef-e944ff90357b",
   "metadata": {},
   "outputs": [
    {
     "name": "stderr",
     "output_type": "stream",
     "text": [
      "100%|██████████| 8/8 [02:23<00:00, 17.92s/it]\n"
     ]
    }
   ],
   "source": [
    "with tqdm(total=len(perturbation)) as pbar:\n",
    "    for perturbation_type, perturbation_fn in perturbation.items():\n",
    "        shutil.rmtree(os.path.join(\"dataset\", perturbation_type), ignore_errors=True)\n",
    "        for value, fn in perturbation_fn:\n",
    "            for label_directory in glob(os.path.join(\"dataset\", \"test\", \"*\")):\n",
    "                label = label_directory.split(\"/\")[-1]\n",
    "                folder_dir = os.path.join(\n",
    "                    \"dataset\", perturbation_type, str(value), label\n",
    "                )\n",
    "                os.makedirs(folder_dir)\n",
    "                for image_directory in glob(os.path.join(label_directory, \"*\")):\n",
    "                    image = helper.load_image(image_directory)\n",
    "                    image = fn(image)\n",
    "                    image = cv2.cvtColor(image, cv2.COLOR_RGB2BGR)\n",
    "                    image_name = image_directory.split(\"/\")[-1]\n",
    "                    image_save_dir = os.path.join(folder_dir, image_name)\n",
    "                    if not cv2.imwrite(image_save_dir, image):\n",
    "                        raise ValueError\n",
    "        pbar.update()"
   ]
  }
 ],
 "metadata": {
  "kernelspec": {
   "display_name": "Python 3 (ipykernel)",
   "language": "python",
   "name": "python3"
  },
  "language_info": {
   "codemirror_mode": {
    "name": "ipython",
    "version": 3
   },
   "file_extension": ".py",
   "mimetype": "text/x-python",
   "name": "python",
   "nbconvert_exporter": "python",
   "pygments_lexer": "ipython3",
   "version": "3.8.10"
  }
 },
 "nbformat": 4,
 "nbformat_minor": 5
}
